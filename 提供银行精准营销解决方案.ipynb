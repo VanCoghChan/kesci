{
 "cells": [
  {
   "cell_type": "markdown",
   "metadata": {
    "id": "4319B0E9935242F695C3A43AC9A4675A",
    "mdEditEnable": false
   },
   "source": [
    "本次，二分类，我的操作主要分为以下四个部分：\n",
    "> 1. 导入相关的包和数据集\n",
    "> 2. 数据预处理\n",
    "> 3. Exploratory Data Analysis\n",
    "> 4. 模型建立和调参"
   ]
  },
  {
   "cell_type": "markdown",
   "metadata": {
    "id": "1A5ECFD3AF314F8A872EC54A563BB1AC",
    "mdEditEnable": false
   },
   "source": [
    "# 1. 导入相关的包和数据集"
   ]
  },
  {
   "cell_type": "code",
   "execution_count": 1,
   "metadata": {
    "ExecuteTime": {
     "end_time": "2019-04-30T12:38:16.377877Z",
     "start_time": "2019-04-30T12:38:15.500119Z"
    },
    "id": "0013A1718C9A41738B54364E877D2324",
    "scrolled": false
   },
   "outputs": [],
   "source": [
    "# package imports\n",
    "import pandas as pd\n",
    "import numpy as np \n",
    "\n",
    "import seaborn as sns\n",
    "import matplotlib.pyplot as plt\n",
    "%matplotlib inline\n",
    "\n",
    "from sklearn import metrics\n",
    "from sklearn.ensemble import GradientBoostingClassifier\n",
    "from sklearn.model_selection import cross_validate, GridSearchCV\n",
    "from sklearn.model_selection import train_test_split"
   ]
  },
  {
   "cell_type": "code",
   "execution_count": 2,
   "metadata": {
    "ExecuteTime": {
     "end_time": "2019-04-30T12:38:18.436673Z",
     "start_time": "2019-04-30T12:38:18.346913Z"
    },
    "id": "045F0711DC434099B21C4E2F2ADD4938",
    "scrolled": false
   },
   "outputs": [
    {
     "name": "stdout",
     "output_type": "stream",
     "text": [
      "          ID  age          job   marital  education default  balance housing  \\\n",
      "8243    8244   44   management   married  secondary      no      576     yes   \n",
      "15389  15390   47  blue-collar   married  secondary      no      762     yes   \n",
      "3832    3833   41   management  divorced   tertiary      no       47     yes   \n",
      "18562  18563   54   management  divorced   tertiary      no       22      no   \n",
      "15715  15716   36     services   married  secondary      no      372      no   \n",
      "\n",
      "      loan   contact  day month  duration  campaign  pdays  previous poutcome  \\\n",
      "8243    no   unknown    8   may       128         3     -1         0  unknown   \n",
      "15389   no   unknown   29   may        56         3     -1         0  unknown   \n",
      "3832    no   unknown    8   may       160         1     -1         0  unknown   \n",
      "18562  yes  cellular   18   jul       259         3     -1         0  unknown   \n",
      "15715   no  cellular    4   feb        94         1     -1         0  unknown   \n",
      "\n",
      "       y  \n",
      "8243   0  \n",
      "15389  0  \n",
      "3832   0  \n",
      "18562  0  \n",
      "15715  0  \n",
      "      ID  age         job  marital  education default  balance housing loan  \\\n",
      "0  25318   51   housemaid  married    unknown      no      174      no   no   \n",
      "1  25319   32  management  married   tertiary      no     6059     yes   no   \n",
      "2  25320   60     retired  married    primary      no        0      no   no   \n",
      "3  25321   32     student   single   tertiary      no       64      no   no   \n",
      "4  25322   41   housemaid  married  secondary      no        0     yes  yes   \n",
      "\n",
      "     contact  day month  duration  campaign  pdays  previous poutcome  \n",
      "0  telephone   29   jul       308         3     -1         0  unknown  \n",
      "1   cellular   20   nov       110         2     -1         0  unknown  \n",
      "2  telephone   30   jul       130         3     -1         0  unknown  \n",
      "3   cellular   30   jun       598         4    105         5  failure  \n",
      "4   cellular   15   jul       368         4     -1         0  unknown  \n",
      "(25317, 18)\n",
      "(10852, 17)\n"
     ]
    }
   ],
   "source": [
    "# load train data to play with \n",
    "train = pd.read_csv('train_set.csv')\n",
    "test = pd.read_csv('test_set.csv')\n",
    "\n",
    "# 因为训练集是没有打乱的，所以我shuffle了一下，不过不shuffle也没有关系\n",
    "from sklearn.utils import shuffle\n",
    "train = shuffle(train)\n",
    "\n",
    "print(train.head())\n",
    "print(test.head())\n",
    "print(train.shape)\n",
    "print(test.shape)"
   ]
  },
  {
   "cell_type": "markdown",
   "metadata": {
    "id": "73CD12E040994328813B31C7AA58FDCC",
    "mdEditEnable": false
   },
   "source": [
    "加载数据集之后，我发现：\n",
    ">1. 训练集一共有25,317个observations，18columns。因为第一个column是 `ID`，和`y`无关，因此，我会将其移除\n",
    ">2. 测试集一共有10,852个observations, 17columns。因为第一个column是 `ID`，和`y`无关，因此，我会将其移除"
   ]
  },
  {
   "cell_type": "code",
   "execution_count": 3,
   "metadata": {
    "ExecuteTime": {
     "end_time": "2019-04-30T12:38:19.856109Z",
     "start_time": "2019-04-30T12:38:19.827158Z"
    },
    "id": "F055F21CB2E1472C91A9CF94710EA265",
    "scrolled": false
   },
   "outputs": [],
   "source": [
    "train.drop(columns = ['ID'], inplace = True)\n",
    "test.drop(columns = ['ID'], inplace = True)"
   ]
  },
  {
   "cell_type": "markdown",
   "metadata": {
    "id": "71D0732287EF43E0BFFCF464A485F262",
    "mdEditEnable": false
   },
   "source": [
    "接下来，我会使用`info`来对`train`和`test`的数据类型进行了解"
   ]
  },
  {
   "cell_type": "code",
   "execution_count": 4,
   "metadata": {
    "ExecuteTime": {
     "end_time": "2019-04-30T12:38:21.186522Z",
     "start_time": "2019-04-30T12:38:21.170591Z"
    },
    "id": "EA6F5D72850548FAB8142E12B90832F5",
    "scrolled": false
   },
   "outputs": [
    {
     "name": "stdout",
     "output_type": "stream",
     "text": [
      "<class 'pandas.core.frame.DataFrame'>\n",
      "Int64Index: 25317 entries, 8243 to 13335\n",
      "Data columns (total 17 columns):\n",
      "age          25317 non-null int64\n",
      "job          25317 non-null object\n",
      "marital      25317 non-null object\n",
      "education    25317 non-null object\n",
      "default      25317 non-null object\n",
      "balance      25317 non-null int64\n",
      "housing      25317 non-null object\n",
      "loan         25317 non-null object\n",
      "contact      25317 non-null object\n",
      "day          25317 non-null int64\n",
      "month        25317 non-null object\n",
      "duration     25317 non-null int64\n",
      "campaign     25317 non-null int64\n",
      "pdays        25317 non-null int64\n",
      "previous     25317 non-null int64\n",
      "poutcome     25317 non-null object\n",
      "y            25317 non-null int64\n",
      "dtypes: int64(8), object(9)\n",
      "memory usage: 3.5+ MB\n",
      "None\n"
     ]
    }
   ],
   "source": [
    "print(train.info())"
   ]
  },
  {
   "cell_type": "code",
   "execution_count": 5,
   "metadata": {
    "ExecuteTime": {
     "end_time": "2019-04-30T12:38:21.677397Z",
     "start_time": "2019-04-30T12:38:21.667452Z"
    },
    "id": "87A88D1624F44B508CC3DDC5ECABB30B",
    "scrolled": false
   },
   "outputs": [
    {
     "name": "stdout",
     "output_type": "stream",
     "text": [
      "<class 'pandas.core.frame.DataFrame'>\n",
      "RangeIndex: 10852 entries, 0 to 10851\n",
      "Data columns (total 16 columns):\n",
      "age          10852 non-null int64\n",
      "job          10852 non-null object\n",
      "marital      10852 non-null object\n",
      "education    10852 non-null object\n",
      "default      10852 non-null object\n",
      "balance      10852 non-null int64\n",
      "housing      10852 non-null object\n",
      "loan         10852 non-null object\n",
      "contact      10852 non-null object\n",
      "day          10852 non-null int64\n",
      "month        10852 non-null object\n",
      "duration     10852 non-null int64\n",
      "campaign     10852 non-null int64\n",
      "pdays        10852 non-null int64\n",
      "previous     10852 non-null int64\n",
      "poutcome     10852 non-null object\n",
      "dtypes: int64(7), object(9)\n",
      "memory usage: 1.3+ MB\n",
      "None\n"
     ]
    }
   ],
   "source": [
    "print(test.info())"
   ]
  },
  {
   "cell_type": "markdown",
   "metadata": {
    "id": "5A3E9168C67B4E0B97268BCC23A3C30B",
    "mdEditEnable": false
   },
   "source": [
    "通过，观察训练集，我发现：\n",
    ">1. 训练集一共有25317个entries\n",
    "2. 训练集的数据比较完整，没有出现缺失值\n",
    "3. 训练集中一共有2种数据类型，int64有8个，object有9个\n",
    "4. 训练集占用的内存为 3.5+ MB\n",
    "\n",
    "通过，观察测试集，我发现\n",
    "\n",
    ">1. 测试集一共有10852个entries\n",
    "2. 测试集的数据比较完整，没有出现缺失值\n",
    "3. 测试集中一共有2种数据类型，int64有7个，object有9个,和训练集相比，少了`y`列\n",
    "4. 测试集占用的内存为 1.3+ MB"
   ]
  },
  {
   "cell_type": "markdown",
   "metadata": {
    "id": "7783C69BA4E54F0D98825EFC3C82CE9D",
    "mdEditEnable": false
   },
   "source": [
    "接下来，对`训练集`的`统计信息`进行初步了解："
   ]
  },
  {
   "cell_type": "code",
   "execution_count": 6,
   "metadata": {
    "ExecuteTime": {
     "end_time": "2019-04-30T12:38:23.126935Z",
     "start_time": "2019-04-30T12:38:23.092029Z"
    },
    "id": "0BA1ACD27649443D919383C76B3451D4",
    "scrolled": false
   },
   "outputs": [
    {
     "data": {
      "text/html": [
       "<div>\n",
       "<style scoped>\n",
       "    .dataframe tbody tr th:only-of-type {\n",
       "        vertical-align: middle;\n",
       "    }\n",
       "\n",
       "    .dataframe tbody tr th {\n",
       "        vertical-align: top;\n",
       "    }\n",
       "\n",
       "    .dataframe thead th {\n",
       "        text-align: right;\n",
       "    }\n",
       "</style>\n",
       "<table border=\"1\" class=\"dataframe\">\n",
       "  <thead>\n",
       "    <tr style=\"text-align: right;\">\n",
       "      <th></th>\n",
       "      <th>age</th>\n",
       "      <th>balance</th>\n",
       "      <th>day</th>\n",
       "      <th>duration</th>\n",
       "      <th>campaign</th>\n",
       "      <th>pdays</th>\n",
       "      <th>previous</th>\n",
       "      <th>y</th>\n",
       "    </tr>\n",
       "  </thead>\n",
       "  <tbody>\n",
       "    <tr>\n",
       "      <th>count</th>\n",
       "      <td>25317.000000</td>\n",
       "      <td>25317.000000</td>\n",
       "      <td>25317.000000</td>\n",
       "      <td>25317.000000</td>\n",
       "      <td>25317.000000</td>\n",
       "      <td>25317.000000</td>\n",
       "      <td>25317.000000</td>\n",
       "      <td>25317.000000</td>\n",
       "    </tr>\n",
       "    <tr>\n",
       "      <th>mean</th>\n",
       "      <td>40.935379</td>\n",
       "      <td>1357.555082</td>\n",
       "      <td>15.835289</td>\n",
       "      <td>257.732393</td>\n",
       "      <td>2.772050</td>\n",
       "      <td>40.248766</td>\n",
       "      <td>0.591737</td>\n",
       "      <td>0.116957</td>\n",
       "    </tr>\n",
       "    <tr>\n",
       "      <th>std</th>\n",
       "      <td>10.634289</td>\n",
       "      <td>2999.822811</td>\n",
       "      <td>8.319480</td>\n",
       "      <td>256.975151</td>\n",
       "      <td>3.136097</td>\n",
       "      <td>100.213541</td>\n",
       "      <td>2.568313</td>\n",
       "      <td>0.321375</td>\n",
       "    </tr>\n",
       "    <tr>\n",
       "      <th>min</th>\n",
       "      <td>18.000000</td>\n",
       "      <td>-8019.000000</td>\n",
       "      <td>1.000000</td>\n",
       "      <td>0.000000</td>\n",
       "      <td>1.000000</td>\n",
       "      <td>-1.000000</td>\n",
       "      <td>0.000000</td>\n",
       "      <td>0.000000</td>\n",
       "    </tr>\n",
       "    <tr>\n",
       "      <th>25%</th>\n",
       "      <td>33.000000</td>\n",
       "      <td>73.000000</td>\n",
       "      <td>8.000000</td>\n",
       "      <td>103.000000</td>\n",
       "      <td>1.000000</td>\n",
       "      <td>-1.000000</td>\n",
       "      <td>0.000000</td>\n",
       "      <td>0.000000</td>\n",
       "    </tr>\n",
       "    <tr>\n",
       "      <th>50%</th>\n",
       "      <td>39.000000</td>\n",
       "      <td>448.000000</td>\n",
       "      <td>16.000000</td>\n",
       "      <td>181.000000</td>\n",
       "      <td>2.000000</td>\n",
       "      <td>-1.000000</td>\n",
       "      <td>0.000000</td>\n",
       "      <td>0.000000</td>\n",
       "    </tr>\n",
       "    <tr>\n",
       "      <th>75%</th>\n",
       "      <td>48.000000</td>\n",
       "      <td>1435.000000</td>\n",
       "      <td>21.000000</td>\n",
       "      <td>317.000000</td>\n",
       "      <td>3.000000</td>\n",
       "      <td>-1.000000</td>\n",
       "      <td>0.000000</td>\n",
       "      <td>0.000000</td>\n",
       "    </tr>\n",
       "    <tr>\n",
       "      <th>max</th>\n",
       "      <td>95.000000</td>\n",
       "      <td>102127.000000</td>\n",
       "      <td>31.000000</td>\n",
       "      <td>3881.000000</td>\n",
       "      <td>55.000000</td>\n",
       "      <td>854.000000</td>\n",
       "      <td>275.000000</td>\n",
       "      <td>1.000000</td>\n",
       "    </tr>\n",
       "  </tbody>\n",
       "</table>\n",
       "</div>"
      ],
      "text/plain": [
       "                age        balance           day      duration      campaign  \\\n",
       "count  25317.000000   25317.000000  25317.000000  25317.000000  25317.000000   \n",
       "mean      40.935379    1357.555082     15.835289    257.732393      2.772050   \n",
       "std       10.634289    2999.822811      8.319480    256.975151      3.136097   \n",
       "min       18.000000   -8019.000000      1.000000      0.000000      1.000000   \n",
       "25%       33.000000      73.000000      8.000000    103.000000      1.000000   \n",
       "50%       39.000000     448.000000     16.000000    181.000000      2.000000   \n",
       "75%       48.000000    1435.000000     21.000000    317.000000      3.000000   \n",
       "max       95.000000  102127.000000     31.000000   3881.000000     55.000000   \n",
       "\n",
       "              pdays      previous             y  \n",
       "count  25317.000000  25317.000000  25317.000000  \n",
       "mean      40.248766      0.591737      0.116957  \n",
       "std      100.213541      2.568313      0.321375  \n",
       "min       -1.000000      0.000000      0.000000  \n",
       "25%       -1.000000      0.000000      0.000000  \n",
       "50%       -1.000000      0.000000      0.000000  \n",
       "75%       -1.000000      0.000000      0.000000  \n",
       "max      854.000000    275.000000      1.000000  "
      ]
     },
     "execution_count": 6,
     "metadata": {},
     "output_type": "execute_result"
    }
   ],
   "source": [
    "train.describe()"
   ]
  },
  {
   "cell_type": "markdown",
   "metadata": {
    "id": "CD472005786F486E9F64FB13F6E52517",
    "mdEditEnable": false
   },
   "source": [
    "通过`describe`函数，我有以下发现：\n",
    "1. y列的mean是`0.116957`，说明，label为1的正样本占比较少。我们的样本中存在正负样本不平衡，可以采取a.权重设置，或者b.复制正样本的方式消除正负样本不平衡的带来的影响\n",
    "2. `balance`,`duration`,和`pdays`的std较大，说明值的分布范围较广，后期可能需要进行处理"
   ]
  },
  {
   "cell_type": "markdown",
   "metadata": {
    "id": "224BF8A33E374EE7B924D5C10F2F7EE5",
    "mdEditEnable": false
   },
   "source": [
    "# 2. 数据预处理"
   ]
  },
  {
   "cell_type": "markdown",
   "metadata": {
    "id": "F9741FAACDFE450C91E82911775C3217",
    "mdEditEnable": false
   },
   "source": [
    "接下来，需要对数据进行简单的预处理。我先处理离散变量中的`job`,`marital`,`education`,`contact`,`month`和`poutcome`，主要查看离散变量中都有哪些变量类型，是否存在`unknown`值，如果存在，就用众数填充。并且，在这一步，`train`和`test`一起进行。"
   ]
  },
  {
   "cell_type": "code",
   "execution_count": 7,
   "metadata": {
    "ExecuteTime": {
     "end_time": "2019-04-30T12:38:25.011750Z",
     "start_time": "2019-04-30T12:38:25.002775Z"
    },
    "id": "A5EA9CD87C1A491D8216353693483A26",
    "scrolled": false
   },
   "outputs": [
    {
     "name": "stdout",
     "output_type": "stream",
     "text": [
      "blue-collar      5456\n",
      "management       5296\n",
      "technician       4241\n",
      "admin.           2909\n",
      "services         2342\n",
      "retired          1273\n",
      "self-employed     884\n",
      "entrepreneur      856\n",
      "unemployed        701\n",
      "housemaid         663\n",
      "student           533\n",
      "unknown           163\n",
      "Name: job, dtype: int64\n",
      "the number of unknown data in job column is\n",
      "163 'unknown' job, impute the most common values\n"
     ]
    }
   ],
   "source": [
    "# train job\n",
    "print(train.job.value_counts())\n",
    "print('the number of unknown data in job column is')\n",
    "print(\"163 'unknown' job, impute the most common values\")\n",
    "train['job'].replace('unknown','blue-collar', inplace = True)"
   ]
  },
  {
   "cell_type": "code",
   "execution_count": 8,
   "metadata": {
    "ExecuteTime": {
     "end_time": "2019-04-30T12:38:25.466071Z",
     "start_time": "2019-04-30T12:38:25.460057Z"
    },
    "id": "CB4E99A5B5AA41B5883E29DE91A2576B",
    "scrolled": false
   },
   "outputs": [
    {
     "name": "stdout",
     "output_type": "stream",
     "text": [
      "blue-collar      2307\n",
      "management       2299\n",
      "technician       1842\n",
      "admin.           1215\n",
      "services          966\n",
      "retired           555\n",
      "self-employed     391\n",
      "entrepreneur      329\n",
      "unemployed        323\n",
      "housemaid         316\n",
      "student           249\n",
      "unknown            60\n",
      "Name: job, dtype: int64\n",
      "60 'unknown' job, impute the most common values\n"
     ]
    }
   ],
   "source": [
    "# test job\n",
    "print(test.job.value_counts())\n",
    "print(\"60 'unknown' job, impute the most common values\")\n",
    "test['job'].replace('unknown','blue-collar', inplace = True)"
   ]
  },
  {
   "cell_type": "code",
   "execution_count": 9,
   "metadata": {
    "ExecuteTime": {
     "end_time": "2019-04-30T12:38:25.953737Z",
     "start_time": "2019-04-30T12:38:25.947753Z"
    },
    "id": "D7270D724FD041949999537139948934",
    "scrolled": false
   },
   "outputs": [
    {
     "name": "stdout",
     "output_type": "stream",
     "text": [
      "married     15245\n",
      "single       7157\n",
      "divorced     2915\n",
      "Name: marital, dtype: int64\n",
      "0'unknown'marital\n"
     ]
    }
   ],
   "source": [
    "# train marital\n",
    "print(train.marital.value_counts())\n",
    "print(\"0'unknown'marital\")"
   ]
  },
  {
   "cell_type": "code",
   "execution_count": 10,
   "metadata": {
    "ExecuteTime": {
     "end_time": "2019-04-30T12:38:26.384685Z",
     "start_time": "2019-04-30T12:38:26.378689Z"
    },
    "id": "2A7C8E859CC84662BC9EA47A12A558D5",
    "scrolled": false
   },
   "outputs": [
    {
     "name": "stdout",
     "output_type": "stream",
     "text": [
      "married     6612\n",
      "single      3015\n",
      "divorced    1225\n",
      "Name: marital, dtype: int64\n",
      "0'unknown'marital\n"
     ]
    }
   ],
   "source": [
    "# test marital\n",
    "print(test.marital.value_counts())\n",
    "print(\"0'unknown'marital\")"
   ]
  },
  {
   "cell_type": "code",
   "execution_count": 11,
   "metadata": {
    "ExecuteTime": {
     "end_time": "2019-04-30T12:38:26.833251Z",
     "start_time": "2019-04-30T12:38:26.827244Z"
    },
    "id": "90C19ECF185147C581E85A2CCFEF8D56",
    "scrolled": false
   },
   "outputs": [
    {
     "name": "stdout",
     "output_type": "stream",
     "text": [
      "secondary    12957\n",
      "tertiary      7447\n",
      "primary       3848\n",
      "unknown       1065\n",
      "Name: education, dtype: int64\n",
      "the number of unknown data in education column is 1065\n",
      "1065 'unknown' education, impute the most common value secondary\n"
     ]
    }
   ],
   "source": [
    "# train education\n",
    "print(train.education.value_counts())\n",
    "print('the number of unknown data in education column is 1065')\n",
    "print(\"1065 'unknown' education, impute the most common value secondary\")\n",
    "train['education'].replace('unknown', 'secondary', inplace = True)"
   ]
  },
  {
   "cell_type": "code",
   "execution_count": 12,
   "metadata": {
    "ExecuteTime": {
     "end_time": "2019-04-30T12:38:27.241160Z",
     "start_time": "2019-04-30T12:38:27.235152Z"
    },
    "id": "F473317ED03B40A7B69614D35C3CE383",
    "scrolled": false
   },
   "outputs": [
    {
     "name": "stdout",
     "output_type": "stream",
     "text": [
      "secondary    5552\n",
      "tertiary     3207\n",
      "primary      1645\n",
      "unknown       448\n",
      "Name: education, dtype: int64\n",
      "448 'unknown' job, impute the most common values\n"
     ]
    }
   ],
   "source": [
    "# test education\n",
    "print(test.education.value_counts())\n",
    "print(\"448 'unknown' job, impute the most common values\")\n",
    "test['education'].replace('unknown','secondary', inplace = True)"
   ]
  },
  {
   "cell_type": "code",
   "execution_count": 13,
   "metadata": {
    "ExecuteTime": {
     "end_time": "2019-04-30T12:38:27.666997Z",
     "start_time": "2019-04-30T12:38:27.660017Z"
    },
    "id": "425780C47DB6475983C3322238AB85E1",
    "scrolled": false
   },
   "outputs": [
    {
     "name": "stdout",
     "output_type": "stream",
     "text": [
      "cellular     16391\n",
      "unknown       7281\n",
      "telephone     1645\n",
      "Name: contact, dtype: int64\n",
      "7281 'unknown' contact, impute the most common value secondary\n"
     ]
    }
   ],
   "source": [
    "# train contact\n",
    "print(train.contact.value_counts())\n",
    "print(\"7281 'unknown' contact, impute the most common value secondary\")\n",
    "train['contact'].replace('unknown','cellular', inplace = True)"
   ]
  },
  {
   "cell_type": "code",
   "execution_count": 14,
   "metadata": {
    "ExecuteTime": {
     "end_time": "2019-04-30T12:38:28.138735Z",
     "start_time": "2019-04-30T12:38:28.132751Z"
    },
    "id": "2F82E27A9B0B4E66880C83B5C9FCBEA5",
    "scrolled": false
   },
   "outputs": [
    {
     "name": "stdout",
     "output_type": "stream",
     "text": [
      "cellular     7046\n",
      "unknown      3112\n",
      "telephone     694\n",
      "Name: contact, dtype: int64\n",
      "3112 'unknown' contact, impute the most common values\n"
     ]
    }
   ],
   "source": [
    "# test contact\n",
    "print(test.contact.value_counts())\n",
    "print(\"3112 'unknown' contact, impute the most common values\")\n",
    "test['contact'].replace('unknown','cellular', inplace = True)"
   ]
  },
  {
   "cell_type": "code",
   "execution_count": 15,
   "metadata": {
    "ExecuteTime": {
     "end_time": "2019-04-30T12:38:28.592915Z",
     "start_time": "2019-04-30T12:38:28.586931Z"
    },
    "id": "37ADC92D21F84D8188C4FFE76AEAB318",
    "scrolled": false
   },
   "outputs": [
    {
     "name": "stdout",
     "output_type": "stream",
     "text": [
      "may    7655\n",
      "jul    3937\n",
      "aug    3482\n",
      "jun    2968\n",
      "nov    2243\n",
      "apr    1669\n",
      "feb    1464\n",
      "jan     777\n",
      "oct     411\n",
      "sep     339\n",
      "mar     269\n",
      "dec     103\n",
      "Name: month, dtype: int64\n"
     ]
    }
   ],
   "source": [
    "# train month\n",
    "print(train.month.value_counts())"
   ]
  },
  {
   "cell_type": "code",
   "execution_count": 16,
   "metadata": {
    "ExecuteTime": {
     "end_time": "2019-04-30T12:38:29.056093Z",
     "start_time": "2019-04-30T12:38:29.051107Z"
    },
    "id": "AB8A6D516E794F92964CBB2C39531B09",
    "scrolled": false
   },
   "outputs": [
    {
     "name": "stdout",
     "output_type": "stream",
     "text": [
      "may    3302\n",
      "jul    1632\n",
      "aug    1517\n",
      "jun    1286\n",
      "nov     948\n",
      "apr     696\n",
      "feb     660\n",
      "jan     317\n",
      "oct     189\n",
      "sep     126\n",
      "mar     113\n",
      "dec      66\n",
      "Name: month, dtype: int64\n"
     ]
    }
   ],
   "source": [
    "# test month\n",
    "print(test.month.value_counts())"
   ]
  },
  {
   "cell_type": "code",
   "execution_count": 17,
   "metadata": {
    "ExecuteTime": {
     "end_time": "2019-04-30T12:38:29.511901Z",
     "start_time": "2019-04-30T12:38:29.506887Z"
    },
    "id": "13E90750AB0E45C0ABCFF7DAA9E8A5BE",
    "scrolled": false
   },
   "outputs": [
    {
     "name": "stdout",
     "output_type": "stream",
     "text": [
      "unknown    20677\n",
      "failure     2735\n",
      "other       1070\n",
      "success      835\n",
      "Name: poutcome, dtype: int64\n"
     ]
    }
   ],
   "source": [
    "# train poutcome\n",
    "print(train.poutcome.value_counts())\n",
    "# Unknown 太多了，一时间不知道如何处理"
   ]
  },
  {
   "cell_type": "code",
   "execution_count": 18,
   "metadata": {
    "ExecuteTime": {
     "end_time": "2019-04-30T12:38:29.945741Z",
     "start_time": "2019-04-30T12:38:29.940727Z"
    },
    "id": "A61BC75EFE314CF7829429025E8ED242",
    "scrolled": false
   },
   "outputs": [
    {
     "name": "stdout",
     "output_type": "stream",
     "text": [
      "unknown    8877\n",
      "failure    1203\n",
      "other       405\n",
      "success     367\n",
      "Name: poutcome, dtype: int64\n"
     ]
    }
   ],
   "source": [
    "# test poutcome\n",
    "print(test.poutcome.value_counts())\n",
    "#print(\"3112 'unknown' contact, impute the most common values\")\n",
    "#test['contact'].replace('unknown','cellular', inplace = True)"
   ]
  },
  {
   "cell_type": "code",
   "execution_count": 19,
   "metadata": {
    "ExecuteTime": {
     "end_time": "2019-04-30T12:38:30.384540Z",
     "start_time": "2019-04-30T12:38:30.379553Z"
    },
    "id": "29596517D0034A38A9356970616B052E",
    "scrolled": false
   },
   "outputs": [
    {
     "name": "stdout",
     "output_type": "stream",
     "text": [
      "no     24869\n",
      "yes      448\n",
      "Name: default, dtype: int64\n"
     ]
    }
   ],
   "source": [
    "# train\n",
    "print(train.default.value_counts())"
   ]
  },
  {
   "cell_type": "code",
   "execution_count": 20,
   "metadata": {
    "ExecuteTime": {
     "end_time": "2019-04-30T12:38:30.831158Z",
     "start_time": "2019-04-30T12:38:30.827146Z"
    },
    "id": "0D334A644B954FEBB98AC8E7FEE75753",
    "scrolled": false
   },
   "outputs": [
    {
     "name": "stdout",
     "output_type": "stream",
     "text": [
      "no     10655\n",
      "yes      197\n",
      "Name: default, dtype: int64\n"
     ]
    }
   ],
   "source": [
    "# test\n",
    "print(test.default.value_counts())"
   ]
  },
  {
   "cell_type": "code",
   "execution_count": 21,
   "metadata": {
    "ExecuteTime": {
     "end_time": "2019-04-30T12:38:31.248791Z",
     "start_time": "2019-04-30T12:38:31.242807Z"
    },
    "id": "A876F1E4E4954DA28C293F81F4746CF2",
    "scrolled": false
   },
   "outputs": [
    {
     "name": "stdout",
     "output_type": "stream",
     "text": [
      "yes    14020\n",
      "no     11297\n",
      "Name: housing, dtype: int64\n"
     ]
    }
   ],
   "source": [
    "# train\n",
    "print(train.housing.value_counts())"
   ]
  },
  {
   "cell_type": "code",
   "execution_count": 22,
   "metadata": {
    "ExecuteTime": {
     "end_time": "2019-04-30T12:38:31.703601Z",
     "start_time": "2019-04-30T12:38:31.699584Z"
    },
    "id": "C9CD7E839BFA4C52890AD4236D1AE7E9",
    "scrolled": false
   },
   "outputs": [
    {
     "name": "stdout",
     "output_type": "stream",
     "text": [
      "yes    5939\n",
      "no     4913\n",
      "Name: housing, dtype: int64\n"
     ]
    }
   ],
   "source": [
    "# test\n",
    "print(test.housing.value_counts())"
   ]
  },
  {
   "cell_type": "code",
   "execution_count": 23,
   "metadata": {
    "ExecuteTime": {
     "end_time": "2019-04-30T12:38:32.248876Z",
     "start_time": "2019-04-30T12:38:32.242891Z"
    },
    "id": "4152D31D35B54B6FA917157BB7BE8E6C",
    "scrolled": false
   },
   "outputs": [
    {
     "name": "stdout",
     "output_type": "stream",
     "text": [
      "no     21258\n",
      "yes     4059\n",
      "Name: loan, dtype: int64\n"
     ]
    }
   ],
   "source": [
    "# train\n",
    "print(train.loan.value_counts())"
   ]
  },
  {
   "cell_type": "code",
   "execution_count": 24,
   "metadata": {
    "ExecuteTime": {
     "end_time": "2019-04-30T12:38:32.720812Z",
     "start_time": "2019-04-30T12:38:32.715855Z"
    },
    "id": "4EEB003C2434466E8C6A5AA9F54634A6",
    "scrolled": false
   },
   "outputs": [
    {
     "name": "stdout",
     "output_type": "stream",
     "text": [
      "no     9105\n",
      "yes    1747\n",
      "Name: loan, dtype: int64\n"
     ]
    }
   ],
   "source": [
    "# test\n",
    "print(test.loan.value_counts())"
   ]
  },
  {
   "cell_type": "markdown",
   "metadata": {
    "id": "A9CB48238F9B41D7AF65863FBD307C93",
    "mdEditEnable": false
   },
   "source": [
    "# 3. 探索性数据分析（EDA）"
   ]
  },
  {
   "cell_type": "markdown",
   "metadata": {
    "id": "0506D64174954329807F19DF51AD1FD0",
    "mdEditEnable": false
   },
   "source": [
    "将离散数据处理完成后，我们可以尝试来看一下，各离散变量和y之间的关系"
   ]
  },
  {
   "cell_type": "code",
   "execution_count": 25,
   "metadata": {
    "ExecuteTime": {
     "end_time": "2019-04-30T12:38:34.021390Z",
     "start_time": "2019-04-30T12:38:33.963281Z"
    },
    "id": "1FC94320A4F047FB8765B47D5A975F66",
    "scrolled": false
   },
   "outputs": [
    {
     "name": "stderr",
     "output_type": "stream",
     "text": [
      "c:\\users\\cchan\\python3.7\\lib\\site-packages\\ipykernel_launcher.py:7: SettingWithCopyWarning: \n",
      "A value is trying to be set on a copy of a slice from a DataFrame.\n",
      "Try using .loc[row_indexer,col_indexer] = value instead\n",
      "\n",
      "See the caveats in the documentation: http://pandas.pydata.org/pandas-docs/stable/indexing.html#indexing-view-versus-copy\n",
      "  import sys\n",
      "c:\\users\\cchan\\python3.7\\lib\\site-packages\\ipykernel_launcher.py:8: SettingWithCopyWarning: \n",
      "A value is trying to be set on a copy of a slice from a DataFrame.\n",
      "Try using .loc[row_indexer,col_indexer] = value instead\n",
      "\n",
      "See the caveats in the documentation: http://pandas.pydata.org/pandas-docs/stable/indexing.html#indexing-view-versus-copy\n",
      "  \n"
     ]
    }
   ],
   "source": [
    "label = train.loc[:,'y']\n",
    "train.drop('y', axis = 1, inplace = True)\n",
    "\n",
    "# 将数据集按照`3:7`的比例，切分为训练集和测试集\n",
    "X_train, X_test, Y_train, Y_test = train_test_split(train, label, test_size = 0.3, random_state = 1)\n",
    "\n",
    "X_train['y'] = Y_train\n",
    "X_test['y'] = Y_test  "
   ]
  },
  {
   "cell_type": "markdown",
   "metadata": {
    "id": "C5F2257B3943406893BA90573BABB974",
    "mdEditEnable": false
   },
   "source": [
    "## 3.1 Job特征"
   ]
  },
  {
   "cell_type": "code",
   "execution_count": 26,
   "metadata": {
    "ExecuteTime": {
     "end_time": "2019-04-30T12:38:35.666596Z",
     "start_time": "2019-04-30T12:38:34.899043Z"
    },
    "id": "5ACD0CB354C6449DA817007CA0F56426",
    "scrolled": false
   },
   "outputs": [
    {
     "data": {
      "text/plain": [
       "<matplotlib.axes._subplots.AxesSubplot at 0x1ea2c7ef048>"
      ]
     },
     "execution_count": 26,
     "metadata": {},
     "output_type": "execute_result"
    },
    {
     "data": {
      "image/png": "[encoded data removed]",
      "text/plain": [
       "<Figure size 1800x720 with 2 Axes>"
      ]
     },
     "metadata": {
      "needs_background": "light"
     },
     "output_type": "display_data"
    }
   ],
   "source": [
    "fig, (axis1, axis2) = plt.subplots(1,2,figsize=(25,10))\n",
    "sns.barplot('job', 'y', data=X_train, ax=axis1) \n",
    "sns.barplot('job', 'y', data=X_test, ax=axis2) "
   ]
  },
  {
   "cell_type": "markdown",
   "metadata": {
    "id": "B103BF24F6F34EB8BC46B6B04A635D4A",
    "mdEditEnable": false
   },
   "source": [
    "我们通过上图，发现`retired`和`student`的比例相对较高，也就是说，该特征，是非常好的统计特征，因为这个`job`是一个categorical数据，所以我会将其直接进行`get_dummies`"
   ]
  },
  {
   "cell_type": "code",
   "execution_count": 27,
   "metadata": {
    "ExecuteTime": {
     "end_time": "2019-04-30T12:38:36.328041Z",
     "start_time": "2019-04-30T12:38:36.254237Z"
    },
    "id": "ECD26D9CA3BA42D88949869130ECCF00"
   },
   "outputs": [
    {
     "data": {
      "text/html": [
       "<div>\n",
       "<style scoped>\n",
       "    .dataframe tbody tr th:only-of-type {\n",
       "        vertical-align: middle;\n",
       "    }\n",
       "\n",
       "    .dataframe tbody tr th {\n",
       "        vertical-align: top;\n",
       "    }\n",
       "\n",
       "    .dataframe thead th {\n",
       "        text-align: right;\n",
       "    }\n",
       "</style>\n",
       "<table border=\"1\" class=\"dataframe\">\n",
       "  <thead>\n",
       "    <tr style=\"text-align: right;\">\n",
       "      <th></th>\n",
       "      <th>age</th>\n",
       "      <th>marital</th>\n",
       "      <th>education</th>\n",
       "      <th>default</th>\n",
       "      <th>balance</th>\n",
       "      <th>housing</th>\n",
       "      <th>loan</th>\n",
       "      <th>contact</th>\n",
       "      <th>day</th>\n",
       "      <th>month</th>\n",
       "      <th>...</th>\n",
       "      <th>job_blue-collar</th>\n",
       "      <th>job_entrepreneur</th>\n",
       "      <th>job_housemaid</th>\n",
       "      <th>job_management</th>\n",
       "      <th>job_retired</th>\n",
       "      <th>job_self-employed</th>\n",
       "      <th>job_services</th>\n",
       "      <th>job_student</th>\n",
       "      <th>job_technician</th>\n",
       "      <th>job_unemployed</th>\n",
       "    </tr>\n",
       "  </thead>\n",
       "  <tbody>\n",
       "    <tr>\n",
       "      <th>18873</th>\n",
       "      <td>32</td>\n",
       "      <td>single</td>\n",
       "      <td>secondary</td>\n",
       "      <td>no</td>\n",
       "      <td>747</td>\n",
       "      <td>yes</td>\n",
       "      <td>no</td>\n",
       "      <td>cellular</td>\n",
       "      <td>8</td>\n",
       "      <td>may</td>\n",
       "      <td>...</td>\n",
       "      <td>0</td>\n",
       "      <td>0</td>\n",
       "      <td>0</td>\n",
       "      <td>0</td>\n",
       "      <td>0</td>\n",
       "      <td>0</td>\n",
       "      <td>0</td>\n",
       "      <td>0</td>\n",
       "      <td>0</td>\n",
       "      <td>1</td>\n",
       "    </tr>\n",
       "    <tr>\n",
       "      <th>13019</th>\n",
       "      <td>36</td>\n",
       "      <td>single</td>\n",
       "      <td>tertiary</td>\n",
       "      <td>no</td>\n",
       "      <td>3875</td>\n",
       "      <td>yes</td>\n",
       "      <td>no</td>\n",
       "      <td>cellular</td>\n",
       "      <td>27</td>\n",
       "      <td>may</td>\n",
       "      <td>...</td>\n",
       "      <td>0</td>\n",
       "      <td>0</td>\n",
       "      <td>0</td>\n",
       "      <td>1</td>\n",
       "      <td>0</td>\n",
       "      <td>0</td>\n",
       "      <td>0</td>\n",
       "      <td>0</td>\n",
       "      <td>0</td>\n",
       "      <td>0</td>\n",
       "    </tr>\n",
       "    <tr>\n",
       "      <th>470</th>\n",
       "      <td>37</td>\n",
       "      <td>single</td>\n",
       "      <td>tertiary</td>\n",
       "      <td>no</td>\n",
       "      <td>8066</td>\n",
       "      <td>no</td>\n",
       "      <td>no</td>\n",
       "      <td>telephone</td>\n",
       "      <td>13</td>\n",
       "      <td>aug</td>\n",
       "      <td>...</td>\n",
       "      <td>0</td>\n",
       "      <td>0</td>\n",
       "      <td>0</td>\n",
       "      <td>1</td>\n",
       "      <td>0</td>\n",
       "      <td>0</td>\n",
       "      <td>0</td>\n",
       "      <td>0</td>\n",
       "      <td>0</td>\n",
       "      <td>0</td>\n",
       "    </tr>\n",
       "    <tr>\n",
       "      <th>478</th>\n",
       "      <td>55</td>\n",
       "      <td>married</td>\n",
       "      <td>tertiary</td>\n",
       "      <td>no</td>\n",
       "      <td>2366</td>\n",
       "      <td>yes</td>\n",
       "      <td>yes</td>\n",
       "      <td>cellular</td>\n",
       "      <td>30</td>\n",
       "      <td>jul</td>\n",
       "      <td>...</td>\n",
       "      <td>0</td>\n",
       "      <td>0</td>\n",
       "      <td>0</td>\n",
       "      <td>1</td>\n",
       "      <td>0</td>\n",
       "      <td>0</td>\n",
       "      <td>0</td>\n",
       "      <td>0</td>\n",
       "      <td>0</td>\n",
       "      <td>0</td>\n",
       "    </tr>\n",
       "    <tr>\n",
       "      <th>20388</th>\n",
       "      <td>44</td>\n",
       "      <td>married</td>\n",
       "      <td>secondary</td>\n",
       "      <td>no</td>\n",
       "      <td>337</td>\n",
       "      <td>yes</td>\n",
       "      <td>no</td>\n",
       "      <td>telephone</td>\n",
       "      <td>28</td>\n",
       "      <td>jul</td>\n",
       "      <td>...</td>\n",
       "      <td>1</td>\n",
       "      <td>0</td>\n",
       "      <td>0</td>\n",
       "      <td>0</td>\n",
       "      <td>0</td>\n",
       "      <td>0</td>\n",
       "      <td>0</td>\n",
       "      <td>0</td>\n",
       "      <td>0</td>\n",
       "      <td>0</td>\n",
       "    </tr>\n",
       "    <tr>\n",
       "      <th>13594</th>\n",
       "      <td>38</td>\n",
       "      <td>single</td>\n",
       "      <td>tertiary</td>\n",
       "      <td>no</td>\n",
       "      <td>6490</td>\n",
       "      <td>no</td>\n",
       "      <td>no</td>\n",
       "      <td>telephone</td>\n",
       "      <td>10</td>\n",
       "      <td>nov</td>\n",
       "      <td>...</td>\n",
       "      <td>0</td>\n",
       "      <td>0</td>\n",
       "      <td>0</td>\n",
       "      <td>1</td>\n",
       "      <td>0</td>\n",
       "      <td>0</td>\n",
       "      <td>0</td>\n",
       "      <td>0</td>\n",
       "      <td>0</td>\n",
       "      <td>0</td>\n",
       "    </tr>\n",
       "    <tr>\n",
       "      <th>13738</th>\n",
       "      <td>35</td>\n",
       "      <td>married</td>\n",
       "      <td>tertiary</td>\n",
       "      <td>no</td>\n",
       "      <td>8029</td>\n",
       "      <td>yes</td>\n",
       "      <td>no</td>\n",
       "      <td>cellular</td>\n",
       "      <td>26</td>\n",
       "      <td>may</td>\n",
       "      <td>...</td>\n",
       "      <td>0</td>\n",
       "      <td>0</td>\n",
       "      <td>0</td>\n",
       "      <td>0</td>\n",
       "      <td>0</td>\n",
       "      <td>0</td>\n",
       "      <td>0</td>\n",
       "      <td>0</td>\n",
       "      <td>1</td>\n",
       "      <td>0</td>\n",
       "    </tr>\n",
       "    <tr>\n",
       "      <th>5891</th>\n",
       "      <td>37</td>\n",
       "      <td>single</td>\n",
       "      <td>tertiary</td>\n",
       "      <td>no</td>\n",
       "      <td>147</td>\n",
       "      <td>no</td>\n",
       "      <td>no</td>\n",
       "      <td>cellular</td>\n",
       "      <td>7</td>\n",
       "      <td>may</td>\n",
       "      <td>...</td>\n",
       "      <td>0</td>\n",
       "      <td>0</td>\n",
       "      <td>0</td>\n",
       "      <td>0</td>\n",
       "      <td>0</td>\n",
       "      <td>0</td>\n",
       "      <td>0</td>\n",
       "      <td>0</td>\n",
       "      <td>1</td>\n",
       "      <td>0</td>\n",
       "    </tr>\n",
       "    <tr>\n",
       "      <th>3473</th>\n",
       "      <td>50</td>\n",
       "      <td>married</td>\n",
       "      <td>primary</td>\n",
       "      <td>no</td>\n",
       "      <td>334</td>\n",
       "      <td>no</td>\n",
       "      <td>no</td>\n",
       "      <td>cellular</td>\n",
       "      <td>27</td>\n",
       "      <td>aug</td>\n",
       "      <td>...</td>\n",
       "      <td>1</td>\n",
       "      <td>0</td>\n",
       "      <td>0</td>\n",
       "      <td>0</td>\n",
       "      <td>0</td>\n",
       "      <td>0</td>\n",
       "      <td>0</td>\n",
       "      <td>0</td>\n",
       "      <td>0</td>\n",
       "      <td>0</td>\n",
       "    </tr>\n",
       "    <tr>\n",
       "      <th>9493</th>\n",
       "      <td>37</td>\n",
       "      <td>married</td>\n",
       "      <td>tertiary</td>\n",
       "      <td>no</td>\n",
       "      <td>767</td>\n",
       "      <td>no</td>\n",
       "      <td>yes</td>\n",
       "      <td>cellular</td>\n",
       "      <td>2</td>\n",
       "      <td>feb</td>\n",
       "      <td>...</td>\n",
       "      <td>0</td>\n",
       "      <td>0</td>\n",
       "      <td>0</td>\n",
       "      <td>1</td>\n",
       "      <td>0</td>\n",
       "      <td>0</td>\n",
       "      <td>0</td>\n",
       "      <td>0</td>\n",
       "      <td>0</td>\n",
       "      <td>0</td>\n",
       "    </tr>\n",
       "    <tr>\n",
       "      <th>17932</th>\n",
       "      <td>52</td>\n",
       "      <td>divorced</td>\n",
       "      <td>primary</td>\n",
       "      <td>no</td>\n",
       "      <td>528</td>\n",
       "      <td>no</td>\n",
       "      <td>no</td>\n",
       "      <td>cellular</td>\n",
       "      <td>4</td>\n",
       "      <td>feb</td>\n",
       "      <td>...</td>\n",
       "      <td>1</td>\n",
       "      <td>0</td>\n",
       "      <td>0</td>\n",
       "      <td>0</td>\n",
       "      <td>0</td>\n",
       "      <td>0</td>\n",
       "      <td>0</td>\n",
       "      <td>0</td>\n",
       "      <td>0</td>\n",
       "      <td>0</td>\n",
       "    </tr>\n",
       "    <tr>\n",
       "      <th>6889</th>\n",
       "      <td>48</td>\n",
       "      <td>single</td>\n",
       "      <td>secondary</td>\n",
       "      <td>no</td>\n",
       "      <td>-347</td>\n",
       "      <td>no</td>\n",
       "      <td>yes</td>\n",
       "      <td>cellular</td>\n",
       "      <td>7</td>\n",
       "      <td>aug</td>\n",
       "      <td>...</td>\n",
       "      <td>0</td>\n",
       "      <td>0</td>\n",
       "      <td>0</td>\n",
       "      <td>0</td>\n",
       "      <td>0</td>\n",
       "      <td>0</td>\n",
       "      <td>0</td>\n",
       "      <td>0</td>\n",
       "      <td>1</td>\n",
       "      <td>0</td>\n",
       "    </tr>\n",
       "    <tr>\n",
       "      <th>14252</th>\n",
       "      <td>30</td>\n",
       "      <td>married</td>\n",
       "      <td>secondary</td>\n",
       "      <td>no</td>\n",
       "      <td>10667</td>\n",
       "      <td>no</td>\n",
       "      <td>no</td>\n",
       "      <td>cellular</td>\n",
       "      <td>20</td>\n",
       "      <td>nov</td>\n",
       "      <td>...</td>\n",
       "      <td>0</td>\n",
       "      <td>0</td>\n",
       "      <td>0</td>\n",
       "      <td>0</td>\n",
       "      <td>0</td>\n",
       "      <td>0</td>\n",
       "      <td>1</td>\n",
       "      <td>0</td>\n",
       "      <td>0</td>\n",
       "      <td>0</td>\n",
       "    </tr>\n",
       "    <tr>\n",
       "      <th>12229</th>\n",
       "      <td>40</td>\n",
       "      <td>married</td>\n",
       "      <td>secondary</td>\n",
       "      <td>no</td>\n",
       "      <td>2100</td>\n",
       "      <td>yes</td>\n",
       "      <td>yes</td>\n",
       "      <td>cellular</td>\n",
       "      <td>7</td>\n",
       "      <td>may</td>\n",
       "      <td>...</td>\n",
       "      <td>0</td>\n",
       "      <td>0</td>\n",
       "      <td>0</td>\n",
       "      <td>0</td>\n",
       "      <td>0</td>\n",
       "      <td>0</td>\n",
       "      <td>0</td>\n",
       "      <td>0</td>\n",
       "      <td>0</td>\n",
       "      <td>0</td>\n",
       "    </tr>\n",
       "    <tr>\n",
       "      <th>3777</th>\n",
       "      <td>50</td>\n",
       "      <td>married</td>\n",
       "      <td>secondary</td>\n",
       "      <td>no</td>\n",
       "      <td>605</td>\n",
       "      <td>yes</td>\n",
       "      <td>no</td>\n",
       "      <td>cellular</td>\n",
       "      <td>15</td>\n",
       "      <td>may</td>\n",
       "      <td>...</td>\n",
       "      <td>1</td>\n",
       "      <td>0</td>\n",
       "      <td>0</td>\n",
       "      <td>0</td>\n",
       "      <td>0</td>\n",
       "      <td>0</td>\n",
       "      <td>0</td>\n",
       "      <td>0</td>\n",
       "      <td>0</td>\n",
       "      <td>0</td>\n",
       "    </tr>\n",
       "    <tr>\n",
       "      <th>21879</th>\n",
       "      <td>27</td>\n",
       "      <td>single</td>\n",
       "      <td>tertiary</td>\n",
       "      <td>no</td>\n",
       "      <td>979</td>\n",
       "      <td>yes</td>\n",
       "      <td>no</td>\n",
       "      <td>cellular</td>\n",
       "      <td>7</td>\n",
       "      <td>may</td>\n",
       "      <td>...</td>\n",
       "      <td>0</td>\n",
       "      <td>0</td>\n",
       "      <td>1</td>\n",
       "      <td>0</td>\n",
       "      <td>0</td>\n",
       "      <td>0</td>\n",
       "      <td>0</td>\n",
       "      <td>0</td>\n",
       "      <td>0</td>\n",
       "      <td>0</td>\n",
       "    </tr>\n",
       "    <tr>\n",
       "      <th>16044</th>\n",
       "      <td>41</td>\n",
       "      <td>divorced</td>\n",
       "      <td>secondary</td>\n",
       "      <td>no</td>\n",
       "      <td>388</td>\n",
       "      <td>no</td>\n",
       "      <td>no</td>\n",
       "      <td>cellular</td>\n",
       "      <td>14</td>\n",
       "      <td>aug</td>\n",
       "      <td>...</td>\n",
       "      <td>1</td>\n",
       "      <td>0</td>\n",
       "      <td>0</td>\n",
       "      <td>0</td>\n",
       "      <td>0</td>\n",
       "      <td>0</td>\n",
       "      <td>0</td>\n",
       "      <td>0</td>\n",
       "      <td>0</td>\n",
       "      <td>0</td>\n",
       "    </tr>\n",
       "    <tr>\n",
       "      <th>8292</th>\n",
       "      <td>50</td>\n",
       "      <td>single</td>\n",
       "      <td>tertiary</td>\n",
       "      <td>no</td>\n",
       "      <td>1840</td>\n",
       "      <td>yes</td>\n",
       "      <td>no</td>\n",
       "      <td>cellular</td>\n",
       "      <td>11</td>\n",
       "      <td>jul</td>\n",
       "      <td>...</td>\n",
       "      <td>0</td>\n",
       "      <td>0</td>\n",
       "      <td>0</td>\n",
       "      <td>0</td>\n",
       "      <td>0</td>\n",
       "      <td>0</td>\n",
       "      <td>0</td>\n",
       "      <td>0</td>\n",
       "      <td>1</td>\n",
       "      <td>0</td>\n",
       "    </tr>\n",
       "    <tr>\n",
       "      <th>2995</th>\n",
       "      <td>44</td>\n",
       "      <td>married</td>\n",
       "      <td>secondary</td>\n",
       "      <td>no</td>\n",
       "      <td>2981</td>\n",
       "      <td>yes</td>\n",
       "      <td>yes</td>\n",
       "      <td>cellular</td>\n",
       "      <td>10</td>\n",
       "      <td>feb</td>\n",
       "      <td>...</td>\n",
       "      <td>0</td>\n",
       "      <td>0</td>\n",
       "      <td>0</td>\n",
       "      <td>0</td>\n",
       "      <td>0</td>\n",
       "      <td>0</td>\n",
       "      <td>0</td>\n",
       "      <td>0</td>\n",
       "      <td>1</td>\n",
       "      <td>0</td>\n",
       "    </tr>\n",
       "    <tr>\n",
       "      <th>8493</th>\n",
       "      <td>22</td>\n",
       "      <td>single</td>\n",
       "      <td>secondary</td>\n",
       "      <td>no</td>\n",
       "      <td>1564</td>\n",
       "      <td>no</td>\n",
       "      <td>no</td>\n",
       "      <td>cellular</td>\n",
       "      <td>28</td>\n",
       "      <td>aug</td>\n",
       "      <td>...</td>\n",
       "      <td>0</td>\n",
       "      <td>0</td>\n",
       "      <td>0</td>\n",
       "      <td>0</td>\n",
       "      <td>0</td>\n",
       "      <td>0</td>\n",
       "      <td>0</td>\n",
       "      <td>1</td>\n",
       "      <td>0</td>\n",
       "      <td>0</td>\n",
       "    </tr>\n",
       "    <tr>\n",
       "      <th>10717</th>\n",
       "      <td>31</td>\n",
       "      <td>married</td>\n",
       "      <td>tertiary</td>\n",
       "      <td>no</td>\n",
       "      <td>256</td>\n",
       "      <td>yes</td>\n",
       "      <td>no</td>\n",
       "      <td>cellular</td>\n",
       "      <td>7</td>\n",
       "      <td>jul</td>\n",
       "      <td>...</td>\n",
       "      <td>0</td>\n",
       "      <td>0</td>\n",
       "      <td>0</td>\n",
       "      <td>1</td>\n",
       "      <td>0</td>\n",
       "      <td>0</td>\n",
       "      <td>0</td>\n",
       "      <td>0</td>\n",
       "      <td>0</td>\n",
       "      <td>0</td>\n",
       "    </tr>\n",
       "    <tr>\n",
       "      <th>11288</th>\n",
       "      <td>32</td>\n",
       "      <td>married</td>\n",
       "      <td>secondary</td>\n",
       "      <td>no</td>\n",
       "      <td>1996</td>\n",
       "      <td>yes</td>\n",
       "      <td>no</td>\n",
       "      <td>cellular</td>\n",
       "      <td>18</td>\n",
       "      <td>nov</td>\n",
       "      <td>...</td>\n",
       "      <td>0</td>\n",
       "      <td>1</td>\n",
       "      <td>0</td>\n",
       "      <td>0</td>\n",
       "      <td>0</td>\n",
       "      <td>0</td>\n",
       "      <td>0</td>\n",
       "      <td>0</td>\n",
       "      <td>0</td>\n",
       "      <td>0</td>\n",
       "    </tr>\n",
       "    <tr>\n",
       "      <th>16333</th>\n",
       "      <td>59</td>\n",
       "      <td>single</td>\n",
       "      <td>secondary</td>\n",
       "      <td>no</td>\n",
       "      <td>671</td>\n",
       "      <td>yes</td>\n",
       "      <td>yes</td>\n",
       "      <td>cellular</td>\n",
       "      <td>15</td>\n",
       "      <td>may</td>\n",
       "      <td>...</td>\n",
       "      <td>0</td>\n",
       "      <td>0</td>\n",
       "      <td>0</td>\n",
       "      <td>1</td>\n",
       "      <td>0</td>\n",
       "      <td>0</td>\n",
       "      <td>0</td>\n",
       "      <td>0</td>\n",
       "      <td>0</td>\n",
       "      <td>0</td>\n",
       "    </tr>\n",
       "    <tr>\n",
       "      <th>6973</th>\n",
       "      <td>41</td>\n",
       "      <td>married</td>\n",
       "      <td>secondary</td>\n",
       "      <td>no</td>\n",
       "      <td>428</td>\n",
       "      <td>no</td>\n",
       "      <td>no</td>\n",
       "      <td>cellular</td>\n",
       "      <td>31</td>\n",
       "      <td>jul</td>\n",
       "      <td>...</td>\n",
       "      <td>0</td>\n",
       "      <td>0</td>\n",
       "      <td>0</td>\n",
       "      <td>0</td>\n",
       "      <td>0</td>\n",
       "      <td>0</td>\n",
       "      <td>1</td>\n",
       "      <td>0</td>\n",
       "      <td>0</td>\n",
       "      <td>0</td>\n",
       "    </tr>\n",
       "    <tr>\n",
       "      <th>13061</th>\n",
       "      <td>41</td>\n",
       "      <td>married</td>\n",
       "      <td>tertiary</td>\n",
       "      <td>no</td>\n",
       "      <td>771</td>\n",
       "      <td>yes</td>\n",
       "      <td>no</td>\n",
       "      <td>cellular</td>\n",
       "      <td>26</td>\n",
       "      <td>aug</td>\n",
       "      <td>...</td>\n",
       "      <td>0</td>\n",
       "      <td>0</td>\n",
       "      <td>0</td>\n",
       "      <td>1</td>\n",
       "      <td>0</td>\n",
       "      <td>0</td>\n",
       "      <td>0</td>\n",
       "      <td>0</td>\n",
       "      <td>0</td>\n",
       "      <td>0</td>\n",
       "    </tr>\n",
       "    <tr>\n",
       "      <th>10735</th>\n",
       "      <td>43</td>\n",
       "      <td>married</td>\n",
       "      <td>secondary</td>\n",
       "      <td>no</td>\n",
       "      <td>-260</td>\n",
       "      <td>yes</td>\n",
       "      <td>no</td>\n",
       "      <td>cellular</td>\n",
       "      <td>11</td>\n",
       "      <td>jul</td>\n",
       "      <td>...</td>\n",
       "      <td>0</td>\n",
       "      <td>0</td>\n",
       "      <td>0</td>\n",
       "      <td>0</td>\n",
       "      <td>0</td>\n",
       "      <td>0</td>\n",
       "      <td>0</td>\n",
       "      <td>0</td>\n",
       "      <td>1</td>\n",
       "      <td>0</td>\n",
       "    </tr>\n",
       "    <tr>\n",
       "      <th>23365</th>\n",
       "      <td>37</td>\n",
       "      <td>married</td>\n",
       "      <td>secondary</td>\n",
       "      <td>no</td>\n",
       "      <td>1970</td>\n",
       "      <td>yes</td>\n",
       "      <td>no</td>\n",
       "      <td>telephone</td>\n",
       "      <td>5</td>\n",
       "      <td>nov</td>\n",
       "      <td>...</td>\n",
       "      <td>0</td>\n",
       "      <td>0</td>\n",
       "      <td>0</td>\n",
       "      <td>0</td>\n",
       "      <td>0</td>\n",
       "      <td>0</td>\n",
       "      <td>1</td>\n",
       "      <td>0</td>\n",
       "      <td>0</td>\n",
       "      <td>0</td>\n",
       "    </tr>\n",
       "    <tr>\n",
       "      <th>12822</th>\n",
       "      <td>31</td>\n",
       "      <td>single</td>\n",
       "      <td>secondary</td>\n",
       "      <td>no</td>\n",
       "      <td>36</td>\n",
       "      <td>no</td>\n",
       "      <td>no</td>\n",
       "      <td>cellular</td>\n",
       "      <td>27</td>\n",
       "      <td>aug</td>\n",
       "      <td>...</td>\n",
       "      <td>0</td>\n",
       "      <td>0</td>\n",
       "      <td>0</td>\n",
       "      <td>1</td>\n",
       "      <td>0</td>\n",
       "      <td>0</td>\n",
       "      <td>0</td>\n",
       "      <td>0</td>\n",
       "      <td>0</td>\n",
       "      <td>0</td>\n",
       "    </tr>\n",
       "    <tr>\n",
       "      <th>10233</th>\n",
       "      <td>55</td>\n",
       "      <td>divorced</td>\n",
       "      <td>secondary</td>\n",
       "      <td>no</td>\n",
       "      <td>0</td>\n",
       "      <td>yes</td>\n",
       "      <td>no</td>\n",
       "      <td>cellular</td>\n",
       "      <td>11</td>\n",
       "      <td>may</td>\n",
       "      <td>...</td>\n",
       "      <td>0</td>\n",
       "      <td>0</td>\n",
       "      <td>0</td>\n",
       "      <td>1</td>\n",
       "      <td>0</td>\n",
       "      <td>0</td>\n",
       "      <td>0</td>\n",
       "      <td>0</td>\n",
       "      <td>0</td>\n",
       "      <td>0</td>\n",
       "    </tr>\n",
       "    <tr>\n",
       "      <th>12155</th>\n",
       "      <td>49</td>\n",
       "      <td>married</td>\n",
       "      <td>secondary</td>\n",
       "      <td>no</td>\n",
       "      <td>1114</td>\n",
       "      <td>no</td>\n",
       "      <td>no</td>\n",
       "      <td>cellular</td>\n",
       "      <td>17</td>\n",
       "      <td>nov</td>\n",
       "      <td>...</td>\n",
       "      <td>0</td>\n",
       "      <td>0</td>\n",
       "      <td>0</td>\n",
       "      <td>0</td>\n",
       "      <td>0</td>\n",
       "      <td>0</td>\n",
       "      <td>1</td>\n",
       "      <td>0</td>\n",
       "      <td>0</td>\n",
       "      <td>0</td>\n",
       "    </tr>\n",
       "    <tr>\n",
       "      <th>...</th>\n",
       "      <td>...</td>\n",
       "      <td>...</td>\n",
       "      <td>...</td>\n",
       "      <td>...</td>\n",
       "      <td>...</td>\n",
       "      <td>...</td>\n",
       "      <td>...</td>\n",
       "      <td>...</td>\n",
       "      <td>...</td>\n",
       "      <td>...</td>\n",
       "      <td>...</td>\n",
       "      <td>...</td>\n",
       "      <td>...</td>\n",
       "      <td>...</td>\n",
       "      <td>...</td>\n",
       "      <td>...</td>\n",
       "      <td>...</td>\n",
       "      <td>...</td>\n",
       "      <td>...</td>\n",
       "      <td>...</td>\n",
       "      <td>...</td>\n",
       "    </tr>\n",
       "    <tr>\n",
       "      <th>8494</th>\n",
       "      <td>55</td>\n",
       "      <td>married</td>\n",
       "      <td>tertiary</td>\n",
       "      <td>no</td>\n",
       "      <td>16786</td>\n",
       "      <td>no</td>\n",
       "      <td>no</td>\n",
       "      <td>cellular</td>\n",
       "      <td>18</td>\n",
       "      <td>nov</td>\n",
       "      <td>...</td>\n",
       "      <td>0</td>\n",
       "      <td>0</td>\n",
       "      <td>0</td>\n",
       "      <td>1</td>\n",
       "      <td>0</td>\n",
       "      <td>0</td>\n",
       "      <td>0</td>\n",
       "      <td>0</td>\n",
       "      <td>0</td>\n",
       "      <td>0</td>\n",
       "    </tr>\n",
       "    <tr>\n",
       "      <th>19323</th>\n",
       "      <td>49</td>\n",
       "      <td>divorced</td>\n",
       "      <td>secondary</td>\n",
       "      <td>no</td>\n",
       "      <td>-403</td>\n",
       "      <td>no</td>\n",
       "      <td>yes</td>\n",
       "      <td>cellular</td>\n",
       "      <td>21</td>\n",
       "      <td>jul</td>\n",
       "      <td>...</td>\n",
       "      <td>0</td>\n",
       "      <td>0</td>\n",
       "      <td>0</td>\n",
       "      <td>0</td>\n",
       "      <td>0</td>\n",
       "      <td>0</td>\n",
       "      <td>0</td>\n",
       "      <td>0</td>\n",
       "      <td>1</td>\n",
       "      <td>0</td>\n",
       "    </tr>\n",
       "    <tr>\n",
       "      <th>6178</th>\n",
       "      <td>45</td>\n",
       "      <td>divorced</td>\n",
       "      <td>secondary</td>\n",
       "      <td>no</td>\n",
       "      <td>5862</td>\n",
       "      <td>yes</td>\n",
       "      <td>no</td>\n",
       "      <td>cellular</td>\n",
       "      <td>18</td>\n",
       "      <td>nov</td>\n",
       "      <td>...</td>\n",
       "      <td>0</td>\n",
       "      <td>0</td>\n",
       "      <td>0</td>\n",
       "      <td>0</td>\n",
       "      <td>0</td>\n",
       "      <td>0</td>\n",
       "      <td>0</td>\n",
       "      <td>0</td>\n",
       "      <td>1</td>\n",
       "      <td>0</td>\n",
       "    </tr>\n",
       "    <tr>\n",
       "      <th>5743</th>\n",
       "      <td>27</td>\n",
       "      <td>married</td>\n",
       "      <td>secondary</td>\n",
       "      <td>no</td>\n",
       "      <td>941</td>\n",
       "      <td>yes</td>\n",
       "      <td>no</td>\n",
       "      <td>cellular</td>\n",
       "      <td>11</td>\n",
       "      <td>jul</td>\n",
       "      <td>...</td>\n",
       "      <td>0</td>\n",
       "      <td>0</td>\n",
       "      <td>0</td>\n",
       "      <td>0</td>\n",
       "      <td>0</td>\n",
       "      <td>0</td>\n",
       "      <td>0</td>\n",
       "      <td>0</td>\n",
       "      <td>0</td>\n",
       "      <td>0</td>\n",
       "    </tr>\n",
       "    <tr>\n",
       "      <th>8811</th>\n",
       "      <td>82</td>\n",
       "      <td>married</td>\n",
       "      <td>primary</td>\n",
       "      <td>no</td>\n",
       "      <td>103</td>\n",
       "      <td>no</td>\n",
       "      <td>no</td>\n",
       "      <td>cellular</td>\n",
       "      <td>1</td>\n",
       "      <td>sep</td>\n",
       "      <td>...</td>\n",
       "      <td>0</td>\n",
       "      <td>0</td>\n",
       "      <td>0</td>\n",
       "      <td>0</td>\n",
       "      <td>1</td>\n",
       "      <td>0</td>\n",
       "      <td>0</td>\n",
       "      <td>0</td>\n",
       "      <td>0</td>\n",
       "      <td>0</td>\n",
       "    </tr>\n",
       "    <tr>\n",
       "      <th>20183</th>\n",
       "      <td>53</td>\n",
       "      <td>married</td>\n",
       "      <td>secondary</td>\n",
       "      <td>no</td>\n",
       "      <td>974</td>\n",
       "      <td>yes</td>\n",
       "      <td>no</td>\n",
       "      <td>cellular</td>\n",
       "      <td>26</td>\n",
       "      <td>may</td>\n",
       "      <td>...</td>\n",
       "      <td>1</td>\n",
       "      <td>0</td>\n",
       "      <td>0</td>\n",
       "      <td>0</td>\n",
       "      <td>0</td>\n",
       "      <td>0</td>\n",
       "      <td>0</td>\n",
       "      <td>0</td>\n",
       "      <td>0</td>\n",
       "      <td>0</td>\n",
       "    </tr>\n",
       "    <tr>\n",
       "      <th>11699</th>\n",
       "      <td>50</td>\n",
       "      <td>married</td>\n",
       "      <td>tertiary</td>\n",
       "      <td>no</td>\n",
       "      <td>1005</td>\n",
       "      <td>no</td>\n",
       "      <td>no</td>\n",
       "      <td>cellular</td>\n",
       "      <td>17</td>\n",
       "      <td>jul</td>\n",
       "      <td>...</td>\n",
       "      <td>0</td>\n",
       "      <td>0</td>\n",
       "      <td>1</td>\n",
       "      <td>0</td>\n",
       "      <td>0</td>\n",
       "      <td>0</td>\n",
       "      <td>0</td>\n",
       "      <td>0</td>\n",
       "      <td>0</td>\n",
       "      <td>0</td>\n",
       "    </tr>\n",
       "    <tr>\n",
       "      <th>14815</th>\n",
       "      <td>49</td>\n",
       "      <td>divorced</td>\n",
       "      <td>secondary</td>\n",
       "      <td>no</td>\n",
       "      <td>-478</td>\n",
       "      <td>yes</td>\n",
       "      <td>yes</td>\n",
       "      <td>cellular</td>\n",
       "      <td>20</td>\n",
       "      <td>nov</td>\n",
       "      <td>...</td>\n",
       "      <td>0</td>\n",
       "      <td>0</td>\n",
       "      <td>0</td>\n",
       "      <td>0</td>\n",
       "      <td>0</td>\n",
       "      <td>1</td>\n",
       "      <td>0</td>\n",
       "      <td>0</td>\n",
       "      <td>0</td>\n",
       "      <td>0</td>\n",
       "    </tr>\n",
       "    <tr>\n",
       "      <th>22897</th>\n",
       "      <td>31</td>\n",
       "      <td>married</td>\n",
       "      <td>tertiary</td>\n",
       "      <td>no</td>\n",
       "      <td>877</td>\n",
       "      <td>no</td>\n",
       "      <td>no</td>\n",
       "      <td>cellular</td>\n",
       "      <td>9</td>\n",
       "      <td>jun</td>\n",
       "      <td>...</td>\n",
       "      <td>0</td>\n",
       "      <td>0</td>\n",
       "      <td>0</td>\n",
       "      <td>1</td>\n",
       "      <td>0</td>\n",
       "      <td>0</td>\n",
       "      <td>0</td>\n",
       "      <td>0</td>\n",
       "      <td>0</td>\n",
       "      <td>0</td>\n",
       "    </tr>\n",
       "    <tr>\n",
       "      <th>12402</th>\n",
       "      <td>25</td>\n",
       "      <td>single</td>\n",
       "      <td>tertiary</td>\n",
       "      <td>no</td>\n",
       "      <td>-113</td>\n",
       "      <td>no</td>\n",
       "      <td>no</td>\n",
       "      <td>cellular</td>\n",
       "      <td>10</td>\n",
       "      <td>jul</td>\n",
       "      <td>...</td>\n",
       "      <td>0</td>\n",
       "      <td>0</td>\n",
       "      <td>0</td>\n",
       "      <td>0</td>\n",
       "      <td>0</td>\n",
       "      <td>0</td>\n",
       "      <td>0</td>\n",
       "      <td>1</td>\n",
       "      <td>0</td>\n",
       "      <td>0</td>\n",
       "    </tr>\n",
       "    <tr>\n",
       "      <th>18902</th>\n",
       "      <td>42</td>\n",
       "      <td>divorced</td>\n",
       "      <td>tertiary</td>\n",
       "      <td>no</td>\n",
       "      <td>0</td>\n",
       "      <td>no</td>\n",
       "      <td>no</td>\n",
       "      <td>cellular</td>\n",
       "      <td>17</td>\n",
       "      <td>nov</td>\n",
       "      <td>...</td>\n",
       "      <td>0</td>\n",
       "      <td>0</td>\n",
       "      <td>0</td>\n",
       "      <td>1</td>\n",
       "      <td>0</td>\n",
       "      <td>0</td>\n",
       "      <td>0</td>\n",
       "      <td>0</td>\n",
       "      <td>0</td>\n",
       "      <td>0</td>\n",
       "    </tr>\n",
       "    <tr>\n",
       "      <th>790</th>\n",
       "      <td>83</td>\n",
       "      <td>divorced</td>\n",
       "      <td>primary</td>\n",
       "      <td>no</td>\n",
       "      <td>0</td>\n",
       "      <td>no</td>\n",
       "      <td>no</td>\n",
       "      <td>telephone</td>\n",
       "      <td>31</td>\n",
       "      <td>may</td>\n",
       "      <td>...</td>\n",
       "      <td>0</td>\n",
       "      <td>0</td>\n",
       "      <td>0</td>\n",
       "      <td>0</td>\n",
       "      <td>1</td>\n",
       "      <td>0</td>\n",
       "      <td>0</td>\n",
       "      <td>0</td>\n",
       "      <td>0</td>\n",
       "      <td>0</td>\n",
       "    </tr>\n",
       "    <tr>\n",
       "      <th>7380</th>\n",
       "      <td>50</td>\n",
       "      <td>married</td>\n",
       "      <td>primary</td>\n",
       "      <td>no</td>\n",
       "      <td>9301</td>\n",
       "      <td>yes</td>\n",
       "      <td>no</td>\n",
       "      <td>cellular</td>\n",
       "      <td>7</td>\n",
       "      <td>jul</td>\n",
       "      <td>...</td>\n",
       "      <td>1</td>\n",
       "      <td>0</td>\n",
       "      <td>0</td>\n",
       "      <td>0</td>\n",
       "      <td>0</td>\n",
       "      <td>0</td>\n",
       "      <td>0</td>\n",
       "      <td>0</td>\n",
       "      <td>0</td>\n",
       "      <td>0</td>\n",
       "    </tr>\n",
       "    <tr>\n",
       "      <th>8520</th>\n",
       "      <td>58</td>\n",
       "      <td>married</td>\n",
       "      <td>secondary</td>\n",
       "      <td>no</td>\n",
       "      <td>196</td>\n",
       "      <td>no</td>\n",
       "      <td>yes</td>\n",
       "      <td>cellular</td>\n",
       "      <td>27</td>\n",
       "      <td>may</td>\n",
       "      <td>...</td>\n",
       "      <td>0</td>\n",
       "      <td>0</td>\n",
       "      <td>1</td>\n",
       "      <td>0</td>\n",
       "      <td>0</td>\n",
       "      <td>0</td>\n",
       "      <td>0</td>\n",
       "      <td>0</td>\n",
       "      <td>0</td>\n",
       "      <td>0</td>\n",
       "    </tr>\n",
       "    <tr>\n",
       "      <th>16977</th>\n",
       "      <td>35</td>\n",
       "      <td>married</td>\n",
       "      <td>secondary</td>\n",
       "      <td>no</td>\n",
       "      <td>533</td>\n",
       "      <td>no</td>\n",
       "      <td>no</td>\n",
       "      <td>cellular</td>\n",
       "      <td>6</td>\n",
       "      <td>aug</td>\n",
       "      <td>...</td>\n",
       "      <td>0</td>\n",
       "      <td>0</td>\n",
       "      <td>0</td>\n",
       "      <td>1</td>\n",
       "      <td>0</td>\n",
       "      <td>0</td>\n",
       "      <td>0</td>\n",
       "      <td>0</td>\n",
       "      <td>0</td>\n",
       "      <td>0</td>\n",
       "    </tr>\n",
       "    <tr>\n",
       "      <th>8981</th>\n",
       "      <td>53</td>\n",
       "      <td>married</td>\n",
       "      <td>tertiary</td>\n",
       "      <td>no</td>\n",
       "      <td>57</td>\n",
       "      <td>no</td>\n",
       "      <td>yes</td>\n",
       "      <td>cellular</td>\n",
       "      <td>19</td>\n",
       "      <td>nov</td>\n",
       "      <td>...</td>\n",
       "      <td>0</td>\n",
       "      <td>0</td>\n",
       "      <td>0</td>\n",
       "      <td>1</td>\n",
       "      <td>0</td>\n",
       "      <td>0</td>\n",
       "      <td>0</td>\n",
       "      <td>0</td>\n",
       "      <td>0</td>\n",
       "      <td>0</td>\n",
       "    </tr>\n",
       "    <tr>\n",
       "      <th>5111</th>\n",
       "      <td>27</td>\n",
       "      <td>single</td>\n",
       "      <td>secondary</td>\n",
       "      <td>no</td>\n",
       "      <td>6492</td>\n",
       "      <td>no</td>\n",
       "      <td>no</td>\n",
       "      <td>cellular</td>\n",
       "      <td>6</td>\n",
       "      <td>feb</td>\n",
       "      <td>...</td>\n",
       "      <td>0</td>\n",
       "      <td>0</td>\n",
       "      <td>0</td>\n",
       "      <td>0</td>\n",
       "      <td>0</td>\n",
       "      <td>0</td>\n",
       "      <td>0</td>\n",
       "      <td>0</td>\n",
       "      <td>0</td>\n",
       "      <td>0</td>\n",
       "    </tr>\n",
       "    <tr>\n",
       "      <th>7463</th>\n",
       "      <td>33</td>\n",
       "      <td>married</td>\n",
       "      <td>secondary</td>\n",
       "      <td>no</td>\n",
       "      <td>184</td>\n",
       "      <td>yes</td>\n",
       "      <td>no</td>\n",
       "      <td>cellular</td>\n",
       "      <td>13</td>\n",
       "      <td>may</td>\n",
       "      <td>...</td>\n",
       "      <td>0</td>\n",
       "      <td>0</td>\n",
       "      <td>0</td>\n",
       "      <td>0</td>\n",
       "      <td>0</td>\n",
       "      <td>0</td>\n",
       "      <td>1</td>\n",
       "      <td>0</td>\n",
       "      <td>0</td>\n",
       "      <td>0</td>\n",
       "    </tr>\n",
       "    <tr>\n",
       "      <th>12564</th>\n",
       "      <td>36</td>\n",
       "      <td>married</td>\n",
       "      <td>secondary</td>\n",
       "      <td>no</td>\n",
       "      <td>8114</td>\n",
       "      <td>yes</td>\n",
       "      <td>no</td>\n",
       "      <td>cellular</td>\n",
       "      <td>6</td>\n",
       "      <td>jun</td>\n",
       "      <td>...</td>\n",
       "      <td>0</td>\n",
       "      <td>0</td>\n",
       "      <td>0</td>\n",
       "      <td>0</td>\n",
       "      <td>0</td>\n",
       "      <td>0</td>\n",
       "      <td>1</td>\n",
       "      <td>0</td>\n",
       "      <td>0</td>\n",
       "      <td>0</td>\n",
       "    </tr>\n",
       "    <tr>\n",
       "      <th>16885</th>\n",
       "      <td>42</td>\n",
       "      <td>married</td>\n",
       "      <td>primary</td>\n",
       "      <td>no</td>\n",
       "      <td>1532</td>\n",
       "      <td>yes</td>\n",
       "      <td>no</td>\n",
       "      <td>cellular</td>\n",
       "      <td>23</td>\n",
       "      <td>jul</td>\n",
       "      <td>...</td>\n",
       "      <td>1</td>\n",
       "      <td>0</td>\n",
       "      <td>0</td>\n",
       "      <td>0</td>\n",
       "      <td>0</td>\n",
       "      <td>0</td>\n",
       "      <td>0</td>\n",
       "      <td>0</td>\n",
       "      <td>0</td>\n",
       "      <td>0</td>\n",
       "    </tr>\n",
       "    <tr>\n",
       "      <th>5998</th>\n",
       "      <td>39</td>\n",
       "      <td>married</td>\n",
       "      <td>secondary</td>\n",
       "      <td>no</td>\n",
       "      <td>315</td>\n",
       "      <td>yes</td>\n",
       "      <td>no</td>\n",
       "      <td>telephone</td>\n",
       "      <td>17</td>\n",
       "      <td>apr</td>\n",
       "      <td>...</td>\n",
       "      <td>0</td>\n",
       "      <td>0</td>\n",
       "      <td>0</td>\n",
       "      <td>1</td>\n",
       "      <td>0</td>\n",
       "      <td>0</td>\n",
       "      <td>0</td>\n",
       "      <td>0</td>\n",
       "      <td>0</td>\n",
       "      <td>0</td>\n",
       "    </tr>\n",
       "    <tr>\n",
       "      <th>7338</th>\n",
       "      <td>24</td>\n",
       "      <td>divorced</td>\n",
       "      <td>secondary</td>\n",
       "      <td>no</td>\n",
       "      <td>513</td>\n",
       "      <td>yes</td>\n",
       "      <td>no</td>\n",
       "      <td>cellular</td>\n",
       "      <td>15</td>\n",
       "      <td>may</td>\n",
       "      <td>...</td>\n",
       "      <td>1</td>\n",
       "      <td>0</td>\n",
       "      <td>0</td>\n",
       "      <td>0</td>\n",
       "      <td>0</td>\n",
       "      <td>0</td>\n",
       "      <td>0</td>\n",
       "      <td>0</td>\n",
       "      <td>0</td>\n",
       "      <td>0</td>\n",
       "    </tr>\n",
       "    <tr>\n",
       "      <th>20637</th>\n",
       "      <td>33</td>\n",
       "      <td>married</td>\n",
       "      <td>secondary</td>\n",
       "      <td>no</td>\n",
       "      <td>91</td>\n",
       "      <td>yes</td>\n",
       "      <td>no</td>\n",
       "      <td>cellular</td>\n",
       "      <td>14</td>\n",
       "      <td>apr</td>\n",
       "      <td>...</td>\n",
       "      <td>1</td>\n",
       "      <td>0</td>\n",
       "      <td>0</td>\n",
       "      <td>0</td>\n",
       "      <td>0</td>\n",
       "      <td>0</td>\n",
       "      <td>0</td>\n",
       "      <td>0</td>\n",
       "      <td>0</td>\n",
       "      <td>0</td>\n",
       "    </tr>\n",
       "    <tr>\n",
       "      <th>16995</th>\n",
       "      <td>47</td>\n",
       "      <td>married</td>\n",
       "      <td>secondary</td>\n",
       "      <td>no</td>\n",
       "      <td>-3</td>\n",
       "      <td>no</td>\n",
       "      <td>yes</td>\n",
       "      <td>cellular</td>\n",
       "      <td>9</td>\n",
       "      <td>jul</td>\n",
       "      <td>...</td>\n",
       "      <td>0</td>\n",
       "      <td>0</td>\n",
       "      <td>0</td>\n",
       "      <td>0</td>\n",
       "      <td>0</td>\n",
       "      <td>0</td>\n",
       "      <td>0</td>\n",
       "      <td>0</td>\n",
       "      <td>1</td>\n",
       "      <td>0</td>\n",
       "    </tr>\n",
       "    <tr>\n",
       "      <th>12559</th>\n",
       "      <td>27</td>\n",
       "      <td>single</td>\n",
       "      <td>secondary</td>\n",
       "      <td>no</td>\n",
       "      <td>450</td>\n",
       "      <td>yes</td>\n",
       "      <td>no</td>\n",
       "      <td>cellular</td>\n",
       "      <td>7</td>\n",
       "      <td>jul</td>\n",
       "      <td>...</td>\n",
       "      <td>0</td>\n",
       "      <td>0</td>\n",
       "      <td>0</td>\n",
       "      <td>0</td>\n",
       "      <td>0</td>\n",
       "      <td>0</td>\n",
       "      <td>0</td>\n",
       "      <td>0</td>\n",
       "      <td>0</td>\n",
       "      <td>0</td>\n",
       "    </tr>\n",
       "    <tr>\n",
       "      <th>3236</th>\n",
       "      <td>37</td>\n",
       "      <td>married</td>\n",
       "      <td>tertiary</td>\n",
       "      <td>no</td>\n",
       "      <td>887</td>\n",
       "      <td>no</td>\n",
       "      <td>no</td>\n",
       "      <td>cellular</td>\n",
       "      <td>13</td>\n",
       "      <td>aug</td>\n",
       "      <td>...</td>\n",
       "      <td>0</td>\n",
       "      <td>0</td>\n",
       "      <td>0</td>\n",
       "      <td>1</td>\n",
       "      <td>0</td>\n",
       "      <td>0</td>\n",
       "      <td>0</td>\n",
       "      <td>0</td>\n",
       "      <td>0</td>\n",
       "      <td>0</td>\n",
       "    </tr>\n",
       "    <tr>\n",
       "      <th>22585</th>\n",
       "      <td>34</td>\n",
       "      <td>married</td>\n",
       "      <td>secondary</td>\n",
       "      <td>no</td>\n",
       "      <td>124</td>\n",
       "      <td>yes</td>\n",
       "      <td>no</td>\n",
       "      <td>telephone</td>\n",
       "      <td>14</td>\n",
       "      <td>may</td>\n",
       "      <td>...</td>\n",
       "      <td>0</td>\n",
       "      <td>0</td>\n",
       "      <td>0</td>\n",
       "      <td>0</td>\n",
       "      <td>0</td>\n",
       "      <td>0</td>\n",
       "      <td>0</td>\n",
       "      <td>0</td>\n",
       "      <td>0</td>\n",
       "      <td>0</td>\n",
       "    </tr>\n",
       "    <tr>\n",
       "      <th>5354</th>\n",
       "      <td>37</td>\n",
       "      <td>single</td>\n",
       "      <td>tertiary</td>\n",
       "      <td>no</td>\n",
       "      <td>584</td>\n",
       "      <td>yes</td>\n",
       "      <td>no</td>\n",
       "      <td>telephone</td>\n",
       "      <td>13</td>\n",
       "      <td>may</td>\n",
       "      <td>...</td>\n",
       "      <td>0</td>\n",
       "      <td>0</td>\n",
       "      <td>0</td>\n",
       "      <td>1</td>\n",
       "      <td>0</td>\n",
       "      <td>0</td>\n",
       "      <td>0</td>\n",
       "      <td>0</td>\n",
       "      <td>0</td>\n",
       "      <td>0</td>\n",
       "    </tr>\n",
       "    <tr>\n",
       "      <th>18229</th>\n",
       "      <td>34</td>\n",
       "      <td>married</td>\n",
       "      <td>secondary</td>\n",
       "      <td>no</td>\n",
       "      <td>-436</td>\n",
       "      <td>yes</td>\n",
       "      <td>no</td>\n",
       "      <td>cellular</td>\n",
       "      <td>26</td>\n",
       "      <td>may</td>\n",
       "      <td>...</td>\n",
       "      <td>1</td>\n",
       "      <td>0</td>\n",
       "      <td>0</td>\n",
       "      <td>0</td>\n",
       "      <td>0</td>\n",
       "      <td>0</td>\n",
       "      <td>0</td>\n",
       "      <td>0</td>\n",
       "      <td>0</td>\n",
       "      <td>0</td>\n",
       "    </tr>\n",
       "    <tr>\n",
       "      <th>9372</th>\n",
       "      <td>37</td>\n",
       "      <td>married</td>\n",
       "      <td>secondary</td>\n",
       "      <td>no</td>\n",
       "      <td>398</td>\n",
       "      <td>yes</td>\n",
       "      <td>no</td>\n",
       "      <td>cellular</td>\n",
       "      <td>19</td>\n",
       "      <td>may</td>\n",
       "      <td>...</td>\n",
       "      <td>1</td>\n",
       "      <td>0</td>\n",
       "      <td>0</td>\n",
       "      <td>0</td>\n",
       "      <td>0</td>\n",
       "      <td>0</td>\n",
       "      <td>0</td>\n",
       "      <td>0</td>\n",
       "      <td>0</td>\n",
       "      <td>0</td>\n",
       "    </tr>\n",
       "  </tbody>\n",
       "</table>\n",
       "<p>17721 rows × 27 columns</p>\n",
       "</div>"
      ],
      "text/plain": [
       "       age   marital  education default  balance housing loan    contact  day  \\\n",
       "18873   32    single  secondary      no      747     yes   no   cellular    8   \n",
       "13019   36    single   tertiary      no     3875     yes   no   cellular   27   \n",
       "470     37    single   tertiary      no     8066      no   no  telephone   13   \n",
       "478     55   married   tertiary      no     2366     yes  yes   cellular   30   \n",
       "20388   44   married  secondary      no      337     yes   no  telephone   28   \n",
       "13594   38    single   tertiary      no     6490      no   no  telephone   10   \n",
       "13738   35   married   tertiary      no     8029     yes   no   cellular   26   \n",
       "5891    37    single   tertiary      no      147      no   no   cellular    7   \n",
       "3473    50   married    primary      no      334      no   no   cellular   27   \n",
       "9493    37   married   tertiary      no      767      no  yes   cellular    2   \n",
       "17932   52  divorced    primary      no      528      no   no   cellular    4   \n",
       "6889    48    single  secondary      no     -347      no  yes   cellular    7   \n",
       "14252   30   married  secondary      no    10667      no   no   cellular   20   \n",
       "12229   40   married  secondary      no     2100     yes  yes   cellular    7   \n",
       "3777    50   married  secondary      no      605     yes   no   cellular   15   \n",
       "21879   27    single   tertiary      no      979     yes   no   cellular    7   \n",
       "16044   41  divorced  secondary      no      388      no   no   cellular   14   \n",
       "8292    50    single   tertiary      no     1840     yes   no   cellular   11   \n",
       "2995    44   married  secondary      no     2981     yes  yes   cellular   10   \n",
       "8493    22    single  secondary      no     1564      no   no   cellular   28   \n",
       "10717   31   married   tertiary      no      256     yes   no   cellular    7   \n",
       "11288   32   married  secondary      no     1996     yes   no   cellular   18   \n",
       "16333   59    single  secondary      no      671     yes  yes   cellular   15   \n",
       "6973    41   married  secondary      no      428      no   no   cellular   31   \n",
       "13061   41   married   tertiary      no      771     yes   no   cellular   26   \n",
       "10735   43   married  secondary      no     -260     yes   no   cellular   11   \n",
       "23365   37   married  secondary      no     1970     yes   no  telephone    5   \n",
       "12822   31    single  secondary      no       36      no   no   cellular   27   \n",
       "10233   55  divorced  secondary      no        0     yes   no   cellular   11   \n",
       "12155   49   married  secondary      no     1114      no   no   cellular   17   \n",
       "...    ...       ...        ...     ...      ...     ...  ...        ...  ...   \n",
       "8494    55   married   tertiary      no    16786      no   no   cellular   18   \n",
       "19323   49  divorced  secondary      no     -403      no  yes   cellular   21   \n",
       "6178    45  divorced  secondary      no     5862     yes   no   cellular   18   \n",
       "5743    27   married  secondary      no      941     yes   no   cellular   11   \n",
       "8811    82   married    primary      no      103      no   no   cellular    1   \n",
       "20183   53   married  secondary      no      974     yes   no   cellular   26   \n",
       "11699   50   married   tertiary      no     1005      no   no   cellular   17   \n",
       "14815   49  divorced  secondary      no     -478     yes  yes   cellular   20   \n",
       "22897   31   married   tertiary      no      877      no   no   cellular    9   \n",
       "12402   25    single   tertiary      no     -113      no   no   cellular   10   \n",
       "18902   42  divorced   tertiary      no        0      no   no   cellular   17   \n",
       "790     83  divorced    primary      no        0      no   no  telephone   31   \n",
       "7380    50   married    primary      no     9301     yes   no   cellular    7   \n",
       "8520    58   married  secondary      no      196      no  yes   cellular   27   \n",
       "16977   35   married  secondary      no      533      no   no   cellular    6   \n",
       "8981    53   married   tertiary      no       57      no  yes   cellular   19   \n",
       "5111    27    single  secondary      no     6492      no   no   cellular    6   \n",
       "7463    33   married  secondary      no      184     yes   no   cellular   13   \n",
       "12564   36   married  secondary      no     8114     yes   no   cellular    6   \n",
       "16885   42   married    primary      no     1532     yes   no   cellular   23   \n",
       "5998    39   married  secondary      no      315     yes   no  telephone   17   \n",
       "7338    24  divorced  secondary      no      513     yes   no   cellular   15   \n",
       "20637   33   married  secondary      no       91     yes   no   cellular   14   \n",
       "16995   47   married  secondary      no       -3      no  yes   cellular    9   \n",
       "12559   27    single  secondary      no      450     yes   no   cellular    7   \n",
       "3236    37   married   tertiary      no      887      no   no   cellular   13   \n",
       "22585   34   married  secondary      no      124     yes   no  telephone   14   \n",
       "5354    37    single   tertiary      no      584     yes   no  telephone   13   \n",
       "18229   34   married  secondary      no     -436     yes   no   cellular   26   \n",
       "9372    37   married  secondary      no      398     yes   no   cellular   19   \n",
       "\n",
       "      month  ...  job_blue-collar  job_entrepreneur  job_housemaid  \\\n",
       "18873   may  ...                0                 0              0   \n",
       "13019   may  ...                0                 0              0   \n",
       "470     aug  ...                0                 0              0   \n",
       "478     jul  ...                0                 0              0   \n",
       "20388   jul  ...                1                 0              0   \n",
       "13594   nov  ...                0                 0              0   \n",
       "13738   may  ...                0                 0              0   \n",
       "5891    may  ...                0                 0              0   \n",
       "3473    aug  ...                1                 0              0   \n",
       "9493    feb  ...                0                 0              0   \n",
       "17932   feb  ...                1                 0              0   \n",
       "6889    aug  ...                0                 0              0   \n",
       "14252   nov  ...                0                 0              0   \n",
       "12229   may  ...                0                 0              0   \n",
       "3777    may  ...                1                 0              0   \n",
       "21879   may  ...                0                 0              1   \n",
       "16044   aug  ...                1                 0              0   \n",
       "8292    jul  ...                0                 0              0   \n",
       "2995    feb  ...                0                 0              0   \n",
       "8493    aug  ...                0                 0              0   \n",
       "10717   jul  ...                0                 0              0   \n",
       "11288   nov  ...                0                 1              0   \n",
       "16333   may  ...                0                 0              0   \n",
       "6973    jul  ...                0                 0              0   \n",
       "13061   aug  ...                0                 0              0   \n",
       "10735   jul  ...                0                 0              0   \n",
       "23365   nov  ...                0                 0              0   \n",
       "12822   aug  ...                0                 0              0   \n",
       "10233   may  ...                0                 0              0   \n",
       "12155   nov  ...                0                 0              0   \n",
       "...     ...  ...              ...               ...            ...   \n",
       "8494    nov  ...                0                 0              0   \n",
       "19323   jul  ...                0                 0              0   \n",
       "6178    nov  ...                0                 0              0   \n",
       "5743    jul  ...                0                 0              0   \n",
       "8811    sep  ...                0                 0              0   \n",
       "20183   may  ...                1                 0              0   \n",
       "11699   jul  ...                0                 0              1   \n",
       "14815   nov  ...                0                 0              0   \n",
       "22897   jun  ...                0                 0              0   \n",
       "12402   jul  ...                0                 0              0   \n",
       "18902   nov  ...                0                 0              0   \n",
       "790     may  ...                0                 0              0   \n",
       "7380    jul  ...                1                 0              0   \n",
       "8520    may  ...                0                 0              1   \n",
       "16977   aug  ...                0                 0              0   \n",
       "8981    nov  ...                0                 0              0   \n",
       "5111    feb  ...                0                 0              0   \n",
       "7463    may  ...                0                 0              0   \n",
       "12564   jun  ...                0                 0              0   \n",
       "16885   jul  ...                1                 0              0   \n",
       "5998    apr  ...                0                 0              0   \n",
       "7338    may  ...                1                 0              0   \n",
       "20637   apr  ...                1                 0              0   \n",
       "16995   jul  ...                0                 0              0   \n",
       "12559   jul  ...                0                 0              0   \n",
       "3236    aug  ...                0                 0              0   \n",
       "22585   may  ...                0                 0              0   \n",
       "5354    may  ...                0                 0              0   \n",
       "18229   may  ...                1                 0              0   \n",
       "9372    may  ...                1                 0              0   \n",
       "\n",
       "       job_management job_retired  job_self-employed  job_services  \\\n",
       "18873               0           0                  0             0   \n",
       "13019               1           0                  0             0   \n",
       "470                 1           0                  0             0   \n",
       "478                 1           0                  0             0   \n",
       "20388               0           0                  0             0   \n",
       "13594               1           0                  0             0   \n",
       "13738               0           0                  0             0   \n",
       "5891                0           0                  0             0   \n",
       "3473                0           0                  0             0   \n",
       "9493                1           0                  0             0   \n",
       "17932               0           0                  0             0   \n",
       "6889                0           0                  0             0   \n",
       "14252               0           0                  0             1   \n",
       "12229               0           0                  0             0   \n",
       "3777                0           0                  0             0   \n",
       "21879               0           0                  0             0   \n",
       "16044               0           0                  0             0   \n",
       "8292                0           0                  0             0   \n",
       "2995                0           0                  0             0   \n",
       "8493                0           0                  0             0   \n",
       "10717               1           0                  0             0   \n",
       "11288               0           0                  0             0   \n",
       "16333               1           0                  0             0   \n",
       "6973                0           0                  0             1   \n",
       "13061               1           0                  0             0   \n",
       "10735               0           0                  0             0   \n",
       "23365               0           0                  0             1   \n",
       "12822               1           0                  0             0   \n",
       "10233               1           0                  0             0   \n",
       "12155               0           0                  0             1   \n",
       "...               ...         ...                ...           ...   \n",
       "8494                1           0                  0             0   \n",
       "19323               0           0                  0             0   \n",
       "6178                0           0                  0             0   \n",
       "5743                0           0                  0             0   \n",
       "8811                0           1                  0             0   \n",
       "20183               0           0                  0             0   \n",
       "11699               0           0                  0             0   \n",
       "14815               0           0                  1             0   \n",
       "22897               1           0                  0             0   \n",
       "12402               0           0                  0             0   \n",
       "18902               1           0                  0             0   \n",
       "790                 0           1                  0             0   \n",
       "7380                0           0                  0             0   \n",
       "8520                0           0                  0             0   \n",
       "16977               1           0                  0             0   \n",
       "8981                1           0                  0             0   \n",
       "5111                0           0                  0             0   \n",
       "7463                0           0                  0             1   \n",
       "12564               0           0                  0             1   \n",
       "16885               0           0                  0             0   \n",
       "5998                1           0                  0             0   \n",
       "7338                0           0                  0             0   \n",
       "20637               0           0                  0             0   \n",
       "16995               0           0                  0             0   \n",
       "12559               0           0                  0             0   \n",
       "3236                1           0                  0             0   \n",
       "22585               0           0                  0             0   \n",
       "5354                1           0                  0             0   \n",
       "18229               0           0                  0             0   \n",
       "9372                0           0                  0             0   \n",
       "\n",
       "       job_student  job_technician  job_unemployed  \n",
       "18873            0               0               1  \n",
       "13019            0               0               0  \n",
       "470              0               0               0  \n",
       "478              0               0               0  \n",
       "20388            0               0               0  \n",
       "13594            0               0               0  \n",
       "13738            0               1               0  \n",
       "5891             0               1               0  \n",
       "3473             0               0               0  \n",
       "9493             0               0               0  \n",
       "17932            0               0               0  \n",
       "6889             0               1               0  \n",
       "14252            0               0               0  \n",
       "12229            0               0               0  \n",
       "3777             0               0               0  \n",
       "21879            0               0               0  \n",
       "16044            0               0               0  \n",
       "8292             0               1               0  \n",
       "2995             0               1               0  \n",
       "8493             1               0               0  \n",
       "10717            0               0               0  \n",
       "11288            0               0               0  \n",
       "16333            0               0               0  \n",
       "6973             0               0               0  \n",
       "13061            0               0               0  \n",
       "10735            0               1               0  \n",
       "23365            0               0               0  \n",
       "12822            0               0               0  \n",
       "10233            0               0               0  \n",
       "12155            0               0               0  \n",
       "...            ...             ...             ...  \n",
       "8494             0               0               0  \n",
       "19323            0               1               0  \n",
       "6178             0               1               0  \n",
       "5743             0               0               0  \n",
       "8811             0               0               0  \n",
       "20183            0               0               0  \n",
       "11699            0               0               0  \n",
       "14815            0               0               0  \n",
       "22897            0               0               0  \n",
       "12402            1               0               0  \n",
       "18902            0               0               0  \n",
       "790              0               0               0  \n",
       "7380             0               0               0  \n",
       "8520             0               0               0  \n",
       "16977            0               0               0  \n",
       "8981             0               0               0  \n",
       "5111             0               0               0  \n",
       "7463             0               0               0  \n",
       "12564            0               0               0  \n",
       "16885            0               0               0  \n",
       "5998             0               0               0  \n",
       "7338             0               0               0  \n",
       "20637            0               0               0  \n",
       "16995            0               1               0  \n",
       "12559            0               0               0  \n",
       "3236             0               0               0  \n",
       "22585            0               0               0  \n",
       "5354             0               0               0  \n",
       "18229            0               0               0  \n",
       "9372             0               0               0  \n",
       "\n",
       "[17721 rows x 27 columns]"
      ]
     },
     "execution_count": 27,
     "metadata": {},
     "output_type": "execute_result"
    }
   ],
   "source": [
    "# 我们同时，将所有的训练集数据集，以及从所有训练集中切好的训练集和测试集，都进行`one hot`操作\n",
    "X_train = pd.get_dummies(data= X_train, columns=['job'])\n",
    "X_test  = pd.get_dummies(data= X_test, columns=['job'])\n",
    "\n",
    "train   = pd.get_dummies(data= train, columns=['job'])\n",
    "test    = pd.get_dummies(data= test, columns=['job'])\n",
    "X_train"
   ]
  },
  {
   "cell_type": "markdown",
   "metadata": {
    "id": "C1FA387F08704715801E22B12AC4C397",
    "mdEditEnable": false
   },
   "source": [
    "## 3.2 marital 特征"
   ]
  },
  {
   "cell_type": "code",
   "execution_count": 28,
   "metadata": {
    "ExecuteTime": {
     "end_time": "2019-04-30T12:38:37.905298Z",
     "start_time": "2019-04-30T12:38:37.307619Z"
    },
    "id": "709722875A844FFD83214ADB765F2E67",
    "scrolled": false
   },
   "outputs": [
    {
     "data": {
      "text/plain": [
       "<matplotlib.axes._subplots.AxesSubplot at 0x1ea2c4b04e0>"
      ]
     },
     "execution_count": 28,
     "metadata": {},
     "output_type": "execute_result"
    },
    {
     "data": {
      "image/png": "[encoded data removed]",
      "text/plain": [
       "<Figure size 1800x720 with 2 Axes>"
      ]
     },
     "metadata": {
      "needs_background": "light"
     },
     "output_type": "display_data"
    }
   ],
   "source": [
    "fig, (axis1, axis2) = plt.subplots(1,2,figsize=(25,10))\n",
    "sns.barplot('marital', 'y', data=X_train, ax=axis1) \n",
    "sns.barplot('marital', 'y', data=X_test, ax=axis2)"
   ]
  },
  {
   "cell_type": "markdown",
   "metadata": {
    "id": "2B8D19318C894BA1A79B957E566597CA",
    "mdEditEnable": false
   },
   "source": [
    "我们通过上图，发现`single`和`divorced`的比例相对较高，也就是说，该特征，是非常好的统计特征，因为这个marital是一个categorical数据，所以我会将其直接进行get_dummies"
   ]
  },
  {
   "cell_type": "code",
   "execution_count": 29,
   "metadata": {
    "ExecuteTime": {
     "end_time": "2019-04-30T12:38:38.626369Z",
     "start_time": "2019-04-30T12:38:38.586475Z"
    },
    "id": "F7449EE5161F49DF8F4619BC9149364D",
    "scrolled": false
   },
   "outputs": [],
   "source": [
    "# 我们同时，将所有的训练集数据集，以及从所有训练集中切好的训练集和测试集，都进行`one hot`操作\n",
    "X_train = pd.get_dummies(data = X_train, columns = ['marital'])\n",
    "X_test  = pd.get_dummies(data = X_test, columns  = ['marital'])\n",
    "\n",
    "train   = pd.get_dummies(data = train, columns = ['marital'])\n",
    "test    = pd.get_dummies(data = test, columns  = ['marital'])"
   ]
  },
  {
   "cell_type": "markdown",
   "metadata": {
    "id": "453B409C051742929D50BCBD2BE03CF3",
    "mdEditEnable": false
   },
   "source": [
    "## 3.2 education特征"
   ]
  },
  {
   "cell_type": "code",
   "execution_count": 30,
   "metadata": {
    "ExecuteTime": {
     "end_time": "2019-04-30T12:38:40.359595Z",
     "start_time": "2019-04-30T12:38:39.739255Z"
    },
    "id": "54AA95A814A140209DB0F847CC11509E",
    "scrolled": false
   },
   "outputs": [
    {
     "data": {
      "text/plain": [
       "<matplotlib.axes._subplots.AxesSubplot at 0x1ea2c5675c0>"
      ]
     },
     "execution_count": 30,
     "metadata": {},
     "output_type": "execute_result"
    },
    {
     "data": {
      "image/png": "[encoded data removed]",
      "text/plain": [
       "<Figure size 1800x720 with 2 Axes>"
      ]
     },
     "metadata": {
      "needs_background": "light"
     },
     "output_type": "display_data"
    }
   ],
   "source": [
    "fig, (axis1, axis2) = plt.subplots(1,2,figsize=(25,10))\n",
    "sns.barplot('education', 'y', data=X_train, ax=axis1) \n",
    "sns.barplot('education', 'y', data=X_test, ax=axis2)"
   ]
  },
  {
   "cell_type": "markdown",
   "metadata": {
    "id": "7349DB18DFE642288A2DEEE6E032231F",
    "mdEditEnable": false
   },
   "source": [
    "我们通过上图，发现tertisry和secondary education的比例相对较高，也就是说，该特征，是非常好的统计特征，因为这个education是一个categorical数据，所以我会将其直接进行get_dummies"
   ]
  },
  {
   "cell_type": "code",
   "execution_count": 31,
   "metadata": {
    "ExecuteTime": {
     "end_time": "2019-04-30T12:38:41.074138Z",
     "start_time": "2019-04-30T12:38:41.036241Z"
    },
    "id": "CB295FE6E960450B8DDF233BA5527E9E",
    "scrolled": false
   },
   "outputs": [],
   "source": [
    "# 我们同时，将所有的训练集数据集，以及从所有训练集中切好的训练集和测试集，都进行`one hot`操作\n",
    "X_train = pd.get_dummies(data = X_train, columns = ['education'])\n",
    "X_test  = pd.get_dummies(data = X_test, columns  = ['education'])\n",
    "\n",
    "train   = pd.get_dummies(data = train,columns = ['education'])\n",
    "test    = pd.get_dummies(data = test,columns = ['education'])"
   ]
  },
  {
   "cell_type": "markdown",
   "metadata": {
    "id": "A7A7AEE966BF4D0E948084C1F2AE3F7F",
    "mdEditEnable": false
   },
   "source": [
    "## 3.3 contact特征"
   ]
  },
  {
   "cell_type": "code",
   "execution_count": 32,
   "metadata": {
    "ExecuteTime": {
     "end_time": "2019-04-30T12:38:42.644298Z",
     "start_time": "2019-04-30T12:38:42.059000Z"
    },
    "id": "8215E151975941BD9918F4375B9266A6",
    "scrolled": false
   },
   "outputs": [
    {
     "data": {
      "text/plain": [
       "<matplotlib.axes._subplots.AxesSubplot at 0x1ea2c624240>"
      ]
     },
     "execution_count": 32,
     "metadata": {},
     "output_type": "execute_result"
    },
    {
     "data": {
      "image/png": "[encoded data removed]",
      "text/plain": [
       "<Figure size 1800x720 with 2 Axes>"
      ]
     },
     "metadata": {
      "needs_background": "light"
     },
     "output_type": "display_data"
    }
   ],
   "source": [
    "fig, (axis1, axis2) = plt.subplots(1,2,figsize=(25,10))\n",
    "sns.barplot('contact', 'y', data=X_train, ax=axis1) \n",
    "sns.barplot('contact', 'y', data=X_test, ax=axis2)"
   ]
  },
  {
   "cell_type": "markdown",
   "metadata": {
    "id": "3851E74F889841918C4B2275E45F8EA3",
    "mdEditEnable": false
   },
   "source": [
    "我们通过上图，发现telephone比例相对较高，也就是说，该特征，是非常好的统计特征，因为这contact是一个categorical数据，所以我会将其直接进行get_dummies"
   ]
  },
  {
   "cell_type": "code",
   "execution_count": 33,
   "metadata": {
    "ExecuteTime": {
     "end_time": "2019-04-30T12:38:43.215157Z",
     "start_time": "2019-04-30T12:38:43.179254Z"
    },
    "id": "94A9418DDA1149F38D307D896F60C0C6",
    "scrolled": false
   },
   "outputs": [],
   "source": [
    "X_train = pd.get_dummies(data = X_train, columns = ['contact'])\n",
    "X_test  = pd.get_dummies(data = X_test, columns  = ['contact'])\n",
    "\n",
    "train   = pd.get_dummies(data= train, columns = ['contact'])\n",
    "test    = pd.get_dummies(data= test, columns = ['contact'])"
   ]
  },
  {
   "cell_type": "markdown",
   "metadata": {
    "id": "2F6D2A0C77D3453C910463538B23D729",
    "mdEditEnable": false
   },
   "source": [
    "## 3.4 month特征"
   ]
  },
  {
   "cell_type": "code",
   "execution_count": 34,
   "metadata": {
    "ExecuteTime": {
     "end_time": "2019-04-30T12:38:45.038634Z",
     "start_time": "2019-04-30T12:38:44.195095Z"
    },
    "id": "C558A131D4A14955AEFE26BA84CC06C8",
    "scrolled": false
   },
   "outputs": [
    {
     "data": {
      "text/plain": [
       "<matplotlib.axes._subplots.AxesSubplot at 0x1ea30bacc50>"
      ]
     },
     "execution_count": 34,
     "metadata": {},
     "output_type": "execute_result"
    },
    {
     "data": {
      "image/png": "[encoded data removed]",
      "text/plain": [
       "<Figure size 1800x720 with 2 Axes>"
      ]
     },
     "metadata": {
      "needs_background": "light"
     },
     "output_type": "display_data"
    }
   ],
   "source": [
    "fig, (axis1, axis2) = plt.subplots(1,2,figsize=(25,10))\n",
    "sns.barplot('month', 'y', data=X_train, ax=axis1) \n",
    "sns.barplot('month', 'y', data=X_test, ax=axis2)"
   ]
  },
  {
   "cell_type": "markdown",
   "metadata": {
    "id": "46C08441106D40378E2FC0E93EDEA7DE",
    "mdEditEnable": false
   },
   "source": [
    "我们通过上图，发现`Mar`,`Oct`,`Sep`,和`Dec`比例相对较高，也就是说，该特征，是非常好的统计特征，因为这month是一个categorical数据，所以我会将其直接进行get_dummies"
   ]
  },
  {
   "cell_type": "code",
   "execution_count": 35,
   "metadata": {
    "ExecuteTime": {
     "end_time": "2019-04-30T12:38:45.989174Z",
     "start_time": "2019-04-30T12:38:45.957149Z"
    },
    "id": "0224E6DD93DC4DAB9E977E89F726492A",
    "scrolled": false
   },
   "outputs": [],
   "source": [
    "X_train = pd.get_dummies(data = X_train, columns = ['month'])\n",
    "X_test  = pd.get_dummies(data = X_test, columns  = ['month'])\n",
    "\n",
    "train   = pd.get_dummies(data = train, columns = ['month'])\n",
    "test    = pd.get_dummies(data = test, columns = ['month'])"
   ]
  },
  {
   "cell_type": "markdown",
   "metadata": {
    "id": "1DD19DCD747B4B738FC0F59F455B086E",
    "mdEditEnable": false
   },
   "source": [
    "## 3.5 poutcome特征"
   ]
  },
  {
   "cell_type": "code",
   "execution_count": 36,
   "metadata": {
    "ExecuteTime": {
     "end_time": "2019-04-30T12:38:47.994264Z",
     "start_time": "2019-04-30T12:38:47.483656Z"
    },
    "id": "E7798A9C56524AC6A3547EF1D3BD07A9",
    "scrolled": false
   },
   "outputs": [
    {
     "data": {
      "text/plain": [
       "<matplotlib.axes._subplots.AxesSubplot at 0x1ea2ed47b00>"
      ]
     },
     "execution_count": 36,
     "metadata": {},
     "output_type": "execute_result"
    },
    {
     "data": {
      "image/png": "[encoded data removed]",
      "text/plain": [
       "<Figure size 1800x720 with 2 Axes>"
      ]
     },
     "metadata": {
      "needs_background": "light"
     },
     "output_type": "display_data"
    }
   ],
   "source": [
    "fig, (axis1, axis2) = plt.subplots(1,2,figsize=(25,10))\n",
    "sns.barplot('poutcome', 'y', data=X_train, ax=axis1) \n",
    "sns.barplot('poutcome', 'y', data=X_test, ax=axis2)"
   ]
  },
  {
   "cell_type": "markdown",
   "metadata": {
    "id": "E211438660AF4EAC82BE69A3079C620E",
    "mdEditEnable": false
   },
   "source": [
    "我们通过上图，发现success比例相对较高，也就是说，该特征，是非常好的统计特征，因为这poutcome是一个categorical数据，所以我会将其直接进行get_dummies"
   ]
  },
  {
   "cell_type": "code",
   "execution_count": 37,
   "metadata": {
    "ExecuteTime": {
     "end_time": "2019-04-30T12:38:48.607619Z",
     "start_time": "2019-04-30T12:38:48.564734Z"
    },
    "id": "95DBBB8ADF76415385D75A9925B981D0",
    "scrolled": false
   },
   "outputs": [],
   "source": [
    "X_train = pd.get_dummies(data = X_train, columns = ['poutcome'])\n",
    "X_test  = pd.get_dummies(data = X_test, columns  = ['poutcome'])\n",
    "\n",
    "train = pd.get_dummies(data= train,columns=['poutcome'])\n",
    "test = pd.get_dummies(data= test,columns=['poutcome'])"
   ]
  },
  {
   "cell_type": "markdown",
   "metadata": {
    "id": "ECEBA4C743FC4DF5810569A9001F06B2",
    "mdEditEnable": false
   },
   "source": [
    "到上面为止，我已经对所有的非`yes`和`no`的categorical数据进行了处理，接下来我们将对`yes`和`no`类的`categorical`数据进行处理"
   ]
  },
  {
   "cell_type": "markdown",
   "metadata": {
    "id": "664488B6E19B403C864CFE042FBDE7E8",
    "mdEditEnable": false
   },
   "source": [
    "## 3.6 default 特征"
   ]
  },
  {
   "cell_type": "code",
   "execution_count": 38,
   "metadata": {
    "ExecuteTime": {
     "end_time": "2019-04-30T12:38:50.767055Z",
     "start_time": "2019-04-30T12:38:50.210577Z"
    },
    "id": "4A598513BCCB48D78828A81C581B6A69",
    "scrolled": false
   },
   "outputs": [
    {
     "data": {
      "text/plain": [
       "<matplotlib.axes._subplots.AxesSubplot at 0x1ea31481470>"
      ]
     },
     "execution_count": 38,
     "metadata": {},
     "output_type": "execute_result"
    },
    {
     "data": {
      "image/png": "[encoded data removed]",
      "text/plain": [
       "<Figure size 1800x720 with 2 Axes>"
      ]
     },
     "metadata": {
      "needs_background": "light"
     },
     "output_type": "display_data"
    }
   ],
   "source": [
    "fig, (axis1, axis2) = plt.subplots(1,2,figsize=(25,10))\n",
    "sns.barplot('default', 'y', data=X_train, ax=axis1) \n",
    "sns.barplot('default', 'y', data=X_test, ax=axis2)"
   ]
  },
  {
   "cell_type": "code",
   "execution_count": 39,
   "metadata": {
    "ExecuteTime": {
     "end_time": "2019-04-30T12:38:50.813957Z",
     "start_time": "2019-04-30T12:38:50.768053Z"
    },
    "id": "235C155044EC4C0985637FF9BF75971A",
    "scrolled": false
   },
   "outputs": [],
   "source": [
    "X_train['default'] = X_train['default'].apply(lambda x: 1 if x == 'yes' else 0)\n",
    "X_test['default']  = X_test['default'].apply(lambda x: 1 if x == 'yes' else 0)\n",
    "\n",
    "\n",
    "train['default']   = train['default'].apply(lambda x: 1 if x == 'yes' else 0)\n",
    "test['default']    = test['default'].apply(lambda x: 1 if x == 'yes' else 0)\n",
    "\n",
    "X_train = pd.get_dummies(data= X_train, columns=['default'])\n",
    "X_test  = pd.get_dummies(data= X_test, columns=['default'])\n",
    "\n",
    "train   = pd.get_dummies(data= train, columns=['default'])\n",
    "test    = pd.get_dummies(data= test, columns=['default'])"
   ]
  },
  {
   "cell_type": "markdown",
   "metadata": {
    "id": "D3A3A958F7334D7D8D294BB3BD232586",
    "mdEditEnable": false
   },
   "source": [
    "## 3.7 housing 特征"
   ]
  },
  {
   "cell_type": "code",
   "execution_count": 40,
   "metadata": {
    "ExecuteTime": {
     "end_time": "2019-04-30T12:38:52.280298Z",
     "start_time": "2019-04-30T12:38:51.771355Z"
    },
    "id": "EF6843C84F1A419A89B19A9D6443D7EE",
    "scrolled": false
   },
   "outputs": [
    {
     "data": {
      "text/plain": [
       "<matplotlib.axes._subplots.AxesSubplot at 0x1ea31331b00>"
      ]
     },
     "execution_count": 40,
     "metadata": {},
     "output_type": "execute_result"
    },
    {
     "data": {
      "image/png": "[encoded data removed]",
      "text/plain": [
       "<Figure size 1800x720 with 2 Axes>"
      ]
     },
     "metadata": {
      "needs_background": "light"
     },
     "output_type": "display_data"
    }
   ],
   "source": [
    "fig, (axis1, axis2) = plt.subplots(1,2,figsize=(25,10))\n",
    "sns.barplot('housing', 'y', data=X_train, ax=axis1) \n",
    "sns.barplot('housing', 'y', data=X_test, ax=axis2)"
   ]
  },
  {
   "cell_type": "code",
   "execution_count": 41,
   "metadata": {
    "ExecuteTime": {
     "end_time": "2019-04-30T12:38:52.329166Z",
     "start_time": "2019-04-30T12:38:52.281295Z"
    },
    "id": "8AA1DFCE1D034928A85A11D77A2E5354",
    "scrolled": false
   },
   "outputs": [],
   "source": [
    "X_train['housing'] = X_train['housing'].apply(lambda x: 1 if x == 'yes' else 0)\n",
    "X_test['housing']  = X_test['housing'].apply(lambda x: 1 if x == 'yes' else 0)\n",
    "\n",
    "\n",
    "train['housing']   = train['housing'].apply(lambda x: 1 if x == 'yes' else 0)\n",
    "test['housing']    = test['housing'].apply(lambda x: 1 if x == 'yes' else 0)\n",
    "\n",
    "X_train = pd.get_dummies(data= X_train, columns=['housing'])\n",
    "X_test  = pd.get_dummies(data= X_test, columns=['housing'])\n",
    "\n",
    "train   = pd.get_dummies(data= train, columns=['housing'])\n",
    "test    = pd.get_dummies(data= test, columns=['housing'])"
   ]
  },
  {
   "cell_type": "markdown",
   "metadata": {
    "id": "74296889B50A48A1AB7EC17A095E638C",
    "mdEditEnable": false
   },
   "source": [
    " ## 3.8 loan 特征"
   ]
  },
  {
   "cell_type": "code",
   "execution_count": 42,
   "metadata": {
    "ExecuteTime": {
     "end_time": "2019-04-30T12:38:53.732008Z",
     "start_time": "2019-04-30T12:38:53.291187Z"
    },
    "id": "7277C74C04494ED59CA651E4B4F09FD4",
    "scrolled": false
   },
   "outputs": [
    {
     "data": {
      "text/plain": [
       "<matplotlib.axes._subplots.AxesSubplot at 0x1ea313dd940>"
      ]
     },
     "execution_count": 42,
     "metadata": {},
     "output_type": "execute_result"
    },
    {
     "data": {
      "image/png": "[encoded data removed]",
      "text/plain": [
       "<Figure size 1800x720 with 2 Axes>"
      ]
     },
     "metadata": {
      "needs_background": "light"
     },
     "output_type": "display_data"
    }
   ],
   "source": [
    "fig, (axis1, axis2) = plt.subplots(1,2,figsize=(25,10))\n",
    "sns.barplot('loan', 'y', data=X_train, ax=axis1) \n",
    "sns.barplot('loan', 'y', data=X_test, ax=axis2)"
   ]
  },
  {
   "cell_type": "code",
   "execution_count": 43,
   "metadata": {
    "ExecuteTime": {
     "end_time": "2019-04-30T12:38:53.775917Z",
     "start_time": "2019-04-30T12:38:53.733006Z"
    },
    "id": "2D2BA6293BF44AA7971F59106EFCA609",
    "scrolled": false
   },
   "outputs": [],
   "source": [
    "X_train['loan'] = X_train['loan'].apply(lambda x: 1 if x == 'yes' else 0)\n",
    "X_test['loan']  = X_test['loan'].apply(lambda x: 1 if x == 'yes' else 0)\n",
    "\n",
    "\n",
    "train['loan']   = train['loan'].apply(lambda x: 1 if x == 'yes' else 0)\n",
    "test['loan']    = test['loan'].apply(lambda x: 1 if x == 'yes' else 0)\n",
    "\n",
    "X_train = pd.get_dummies(data= X_train, columns=['loan'])\n",
    "X_test  = pd.get_dummies(data= X_test, columns=['loan'])\n",
    "\n",
    "train   = pd.get_dummies(data= train, columns=['loan'])\n",
    "test    = pd.get_dummies(data= test, columns=['loan'])"
   ]
  },
  {
   "cell_type": "markdown",
   "metadata": {
    "id": "D628D6E4994748008CFB8D097A5D4D2B",
    "mdEditEnable": false
   },
   "source": [
    "# 4. 模型选择\n",
    "在这里，看到群里有朋友推荐`GradientBoostingClassifier`，我也选择了这个模型"
   ]
  },
  {
   "cell_type": "code",
   "execution_count": 44,
   "metadata": {
    "ExecuteTime": {
     "end_time": "2019-04-30T12:38:57.104058Z",
     "start_time": "2019-04-30T12:38:54.659609Z"
    },
    "id": "DFAFD20304334CA485697228F6136E5D",
    "scrolled": false
   },
   "outputs": [
    {
     "name": "stdout",
     "output_type": "stream",
     "text": [
      "Accuracy : 0.9115\n",
      "AUC Score (Train): 0.929138\n"
     ]
    }
   ],
   "source": [
    "X_train.drop('y', axis = 1, inplace =True)\n",
    "X_test.drop('y',  axis = 1, inplace =True)\n",
    "\n",
    "\n",
    "# creat model，首先是最简单的模型\n",
    "gbm0 = GradientBoostingClassifier(random_state=10)\n",
    "gbm0.fit(train,label) #这个模型的线上分数为0.91923616\n",
    "\n",
    "y_pred = gbm0.predict(X_test)\n",
    "y_predprob = gbm0.predict_proba(X_test)\n",
    "y_predprob = y_predprob[:,1]\n",
    "\n",
    "print(\"Accuracy : %.4g\" % metrics.accuracy_score(Y_test, y_pred))\n",
    "print(\"AUC Score (Train): %f\" % metrics.roc_auc_score(Y_test, y_predprob))"
   ]
  },
  {
   "cell_type": "markdown",
   "metadata": {
    "id": "B32C83F0335149FCA8DD70EF0D990BA9",
    "mdEditEnable": false
   },
   "source": [
    "接下来，对模型进行调参"
   ]
  },
  {
   "cell_type": "code",
   "execution_count": 45,
   "metadata": {
    "ExecuteTime": {
     "end_time": "2019-04-30T12:39:24.914908Z",
     "start_time": "2019-04-30T12:38:57.105024Z"
    }
   },
   "outputs": [
    {
     "name": "stdout",
     "output_type": "stream",
     "text": [
      "[0.91193329 0.91586382 0.91950421 0.92171577 0.9226987  0.92376624\n",
      " 0.92430543] \n",
      " {'n_estimators': 80} \n",
      " 0.924305427217386\n"
     ]
    }
   ],
   "source": [
    "#优化n_estimators\n",
    "param_test1 = {'n_estimators': list(range(20, 81, 10))}\n",
    "gsearch1 = GridSearchCV(\n",
    "    estimator=GradientBoostingClassifier(learning_rate=0.1, min_samples_split=300, min_samples_leaf=20, max_depth=8,\n",
    "                                         max_features='sqrt', subsample=0.8, random_state=10),\n",
    "    param_grid=param_test1, scoring='roc_auc', iid=False, cv=5)\n",
    "gsearch1.fit(train, label)\n",
    "print(gsearch1.cv_results_['mean_test_score'],'\\n', gsearch1.best_params_,'\\n', gsearch1.best_score_)"
   ]
  },
  {
   "cell_type": "code",
   "execution_count": 46,
   "metadata": {
    "ExecuteTime": {
     "end_time": "2019-04-30T12:40:11.557753Z",
     "start_time": "2019-04-30T12:39:24.915905Z"
    },
    "scrolled": true
   },
   "outputs": [
    {
     "name": "stdout",
     "output_type": "stream",
     "text": [
      "[0.9134723  0.92230151 0.92454497 0.9253162  0.92613155 0.92573759] \n",
      " {'max_depth': 11} \n",
      " 0.9261315507875665\n"
     ]
    }
   ],
   "source": [
    "#优化max_depth\n",
    "param_test2 = {'max_depth': list(range(3, 14, 2))}\n",
    "gsearch2 = GridSearchCV(\n",
    "    estimator=GradientBoostingClassifier(learning_rate=0.1, n_estimators=80, min_samples_leaf=20,\n",
    "                                         max_features='sqrt', subsample=0.8, random_state=10),\n",
    "    param_grid=param_test2, scoring='roc_auc', iid=False, cv=5)\n",
    "gsearch2.fit(train, label)\n",
    "print(gsearch2.cv_results_['mean_test_score'],'\\n', gsearch2.best_params_,'\\n', gsearch2.best_score_)"
   ]
  },
  {
   "cell_type": "code",
   "execution_count": 47,
   "metadata": {
    "ExecuteTime": {
     "end_time": "2019-04-30T12:46:29.399338Z",
     "start_time": "2019-04-30T12:43:54.942515Z"
    }
   },
   "outputs": [
    {
     "name": "stdout",
     "output_type": "stream",
     "text": [
      "[0.92449494 0.92356725 0.92276774 0.9226288  0.92326325 0.92286904\n",
      " 0.92284526 0.92170393 0.92214738 0.92188467 0.92166412 0.9208282\n",
      " 0.92239044 0.92208084 0.92103543 0.92120259 0.92228726 0.92208637\n",
      " 0.92216875 0.92067022 0.92199652 0.92112404 0.92138799 0.91921359] \n",
      " {'min_samples_leaf': 50, 'min_samples_split': 500} \n",
      " 0.9244949367125374\n"
     ]
    }
   ],
   "source": [
    "#优化min_samples_split和min_samples_leaf\n",
    "param_test3 = {'min_samples_split': list(range(500, 1201, 200)), 'min_samples_leaf': list(range(50, 101, 10))}\n",
    "gsearch3 = GridSearchCV(\n",
    "    estimator=GradientBoostingClassifier(learning_rate=0.1, n_estimators=80, max_depth=11,\n",
    "                                         max_features='sqrt', subsample=0.8, random_state=10,\n",
    "                                        ),\n",
    "    param_grid=param_test3, scoring='roc_auc', iid=False, cv=5)\n",
    "gsearch3.fit(train, label)\n",
    "print(gsearch3.cv_results_['mean_test_score'],'\\n', gsearch3.best_params_,'\\n', gsearch3.best_score_)"
   ]
  },
  {
   "cell_type": "code",
   "execution_count": 48,
   "metadata": {
    "ExecuteTime": {
     "end_time": "2019-04-30T12:47:48.760305Z",
     "start_time": "2019-04-30T12:46:29.400335Z"
    }
   },
   "outputs": [
    {
     "name": "stdout",
     "output_type": "stream",
     "text": [
      "[0.92054299 0.92331241 0.92331565 0.92425874 0.9238493  0.92357114\n",
      " 0.92505109 0.92473983] \n",
      " {'max_features': 17} \n",
      " 0.9250510895061556\n"
     ]
    }
   ],
   "source": [
    "#优化max_features\n",
    "param_test4 = {'max_features': list(range(5, 20, 2))}\n",
    "gsearch4 = GridSearchCV(\n",
    "    estimator=GradientBoostingClassifier(learning_rate=0.1, n_estimators=80, max_depth=11,\n",
    "                                          subsample=0.8, random_state=10,\n",
    "                                          min_samples_leaf=80, min_samples_split=800),\n",
    "    param_grid=param_test4, scoring='roc_auc', iid=False, cv=5)\n",
    "gsearch4.fit(train, label)\n",
    "print(gsearch4.cv_results_['mean_test_score'],'\\n', gsearch4.best_params_,'\\n', gsearch4.best_score_)"
   ]
  },
  {
   "cell_type": "code",
   "execution_count": 49,
   "metadata": {
    "ExecuteTime": {
     "end_time": "2019-04-30T12:49:13.014486Z",
     "start_time": "2019-04-30T12:47:48.761273Z"
    }
   },
   "outputs": [
    {
     "name": "stdout",
     "output_type": "stream",
     "text": [
      "[0.92382918 0.92340442 0.92496523 0.92497251 0.92487026 0.92476879\n",
      " 0.92592026] \n",
      " {'subsample': 0.9} \n",
      " 0.9259202554064313\n"
     ]
    }
   ],
   "source": [
    "#优化subsample\n",
    "param_test5 = {'subsample': [0.6 ,0.65, 0.7, 0.75, 0.8, 0.85, 0.9]}\n",
    "gsearch5 = GridSearchCV(\n",
    "    estimator=GradientBoostingClassifier(learning_rate=0.1, n_estimators=80, max_depth=11,\n",
    "                                         max_features=15, random_state=10,\n",
    "                                          min_samples_leaf=80, min_samples_split=500),\n",
    "    param_grid=param_test5, scoring='roc_auc', iid=False, cv=5)\n",
    "gsearch5.fit(train, label)\n",
    "print(gsearch5.cv_results_['mean_test_score'],'\\n', gsearch5.best_params_,'\\n', gsearch5.best_score_)"
   ]
  },
  {
   "cell_type": "code",
   "execution_count": 50,
   "metadata": {
    "ExecuteTime": {
     "end_time": "2019-04-30T12:50:40.175361Z",
     "start_time": "2019-04-30T12:49:13.015484Z"
    }
   },
   "outputs": [
    {
     "name": "stdout",
     "output_type": "stream",
     "text": [
      "{'learning_rate': 0.1} 0.9259202554064313\n"
     ]
    }
   ],
   "source": [
    "#优化learning rate\n",
    "param_test6 = {'learning_rate':[0.01, 0.1 , 0.3, 0.5 , 0.7, 1, 5]}\n",
    "gsearch6 = GridSearchCV(\n",
    "    estimator=GradientBoostingClassifier(subsample=0.9, n_estimators=80, max_depth=11,\n",
    "                                         max_features=15, random_state=10,\n",
    "                                          min_samples_leaf=80, min_samples_split=500),\n",
    "    param_grid=param_test6, scoring='roc_auc', iid=False, cv=5)\n",
    "gsearch6.fit(train, label)\n",
    "print(gsearch6.best_params_, gsearch6.best_score_)"
   ]
  },
  {
   "cell_type": "code",
   "execution_count": null,
   "metadata": {},
   "outputs": [],
   "source": [
    "#（1）learning_rate=0.1, n_estimators=80,max_depth=11, min_samples_leaf =80, min_samples_split =500, max_features=15, subsample=0.9, random_state=10"
   ]
  },
  {
   "cell_type": "code",
   "execution_count": 51,
   "metadata": {
    "ExecuteTime": {
     "end_time": "2019-04-30T12:50:43.300288Z",
     "start_time": "2019-04-30T12:50:40.176331Z"
    },
    "id": "ECCAA6274F6E4082899C5087991503CB",
    "scrolled": false
   },
   "outputs": [
    {
     "name": "stdout",
     "output_type": "stream",
     "text": [
      "Accuracy : 0.9193\n",
      "AUC Score (Train): 0.950570\n"
     ]
    }
   ],
   "source": [
    "gbm1 = GradientBoostingClassifier(learning_rate=0.1, n_estimators=80,max_depth=11, min_samples_leaf =80, \n",
    "               min_samples_split =500, max_features=15, subsample=0.9, random_state=10)\n",
    "gbm1.fit(train,label)\n",
    "\n",
    "y_pred = gbm1.predict(X_test)\n",
    "y_predprob = gbm1.predict_proba(X_test)\n",
    "y_predprob = y_predprob[:,1]\n",
    "\n",
    "print(\"Accuracy : %.4g\" % metrics.accuracy_score(Y_test, y_pred))\n",
    "print(\"AUC Score (Train): %f\" % metrics.roc_auc_score(Y_test, y_predprob))"
   ]
  },
  {
   "cell_type": "code",
   "execution_count": 52,
   "metadata": {
    "ExecuteTime": {
     "end_time": "2019-04-30T12:50:43.418035Z",
     "start_time": "2019-04-30T12:50:43.301281Z"
    },
    "id": "AEECB4B5692748CC8A50D0633D2865E5",
    "scrolled": false
   },
   "outputs": [
    {
     "name": "stdout",
     "output_type": "stream",
     "text": [
      "Done!\n"
     ]
    }
   ],
   "source": [
    "y_pred = gbm1.predict(test)\n",
    "y_predprob = gbm1.predict_proba(test)\n",
    "y_predprob = y_predprob[:,1]\n",
    "\n",
    "ID = list(range(25318,36170))\n",
    "submission = pd.DataFrame(ID)\n",
    "\n",
    "submission.rename(columns = {0: 'ID'}, inplace = True)\n",
    "\n",
    "# 将pred_y从array转化成DataFrame\n",
    "y_predprob = pd.DataFrame(y_predprob)\n",
    "submission['pred'] =y_predprob\n",
    "submission.to_csv('Result.csv', index = False)\n",
    "print(\"Done!\")"
   ]
  },
  {
   "cell_type": "code",
   "execution_count": null,
   "metadata": {
    "id": "4408E51B451F4C1292BD9A36EEEDDE6E"
   },
   "outputs": [],
   "source": []
  }
 ],
 "metadata": {
  "kernelspec": {
   "display_name": "Python 3",
   "language": "python",
   "name": "python3"
  },
  "language_info": {
   "codemirror_mode": {
    "name": "ipython",
    "version": 3
   },
   "file_extension": ".py",
   "mimetype": "text/x-python",
   "name": "python",
   "nbconvert_exporter": "python",
   "pygments_lexer": "ipython3",
   "version": "3.7.3"
  }
 },
 "nbformat": 4,
 "nbformat_minor": 2
}
